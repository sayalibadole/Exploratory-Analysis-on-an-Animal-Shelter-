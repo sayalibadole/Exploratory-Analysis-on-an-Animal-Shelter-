{
  "cells": [
    {
      "cell_type": "markdown",
      "metadata": {
        "id": "aab1aa45"
      },
      "source": [
        "#**Animal Shelter Exploration**\n",
        "----------------------------"
      ],
      "id": "aab1aa45"
    },
    {
      "cell_type": "markdown",
      "metadata": {
        "id": "Kt6bZoU7dzfU"
      },
      "source": [
        "###By Sayali Badole, Aryana Buelna, and Dylan Renn.\n"
      ],
      "id": "Kt6bZoU7dzfU"
    },
    {
      "cell_type": "markdown",
      "metadata": {
        "id": "dd9d8a1b"
      },
      "source": [
        "## **Introduction**"
      ],
      "id": "dd9d8a1b"
    },
    {
      "cell_type": "markdown",
      "metadata": {
        "id": "rcP-SRvteSqS"
      },
      "source": [
        "In this notebook we will be exploring data from the Sonoma County Animal Shelter. This data set includes information on all animals in the shelter. Specifically about the number of animals in the shelter, animals condition coming in/out of the shelter, how long their stay was, reason for intake, reason for release, age, and type/breed/color/sex of the animal. \n",
        "\n",
        "\n",
        "Our main focus will be exploring the data of cats and dogs at the shelter. We plotted the number of breeds most impounded, animals adopted, correlation between animal conditions and the reason they were released. We also explored why animals return back to the shelter, when the shelter is the busiest, and what effect did COVID-19 have on the animals.\n",
        "\n",
        "\n",
        "\n",
        "The data set used is from the [Sonoma Animal Shelter](https://data.sonomacounty.ca.gov/Government/Animal-Shelter-Intake-and-Outcome/924a-vesw) and can also be found through a github link provided below. We accessed the data set April 4th, 2022. The data set from the Sonoma Animal Shelter is regularly updated and was last updated April 14th, 2022.\n"
      ],
      "id": "rcP-SRvteSqS"
    },
    {
      "cell_type": "markdown",
      "metadata": {
        "id": "en6RF74PTYj9"
      },
      "source": [
        "First we will import some of the Python packages to be used."
      ],
      "id": "en6RF74PTYj9"
    },
    {
      "cell_type": "code",
      "execution_count": 1,
      "metadata": {
        "id": "fdf3ed81"
      },
      "outputs": [],
      "source": [
        "import numpy as np\n",
        "import pandas as pd\n",
        "import matplotlib.pyplot as plt\n",
        "import seaborn as sns\n",
        "import datetime\n",
        "from scipy.stats import chi2_contingency"
      ],
      "id": "fdf3ed81"
    },
    {
      "cell_type": "markdown",
      "metadata": {
        "id": "f03dd8de"
      },
      "source": [
        "## **Initial Data Exploration**"
      ],
      "id": "f03dd8de"
    },
    {
      "cell_type": "markdown",
      "metadata": {
        "id": "kVAJVNROUBNS"
      },
      "source": [
        "Reading the raw data from the given URL and storing it in a dataframe."
      ],
      "id": "kVAJVNROUBNS"
    },
    {
      "cell_type": "code",
      "execution_count": 2,
      "metadata": {
        "id": "8694f864"
      },
      "outputs": [],
      "source": [
        "df = pd.read_csv('https://raw.githubusercontent.com/grbruns/cst383/master/sonoma-shelter-12-2022.csv')"
      ],
      "id": "8694f864"
    },
    {
      "cell_type": "markdown",
      "metadata": {
        "id": "7V_augjOjfdW"
      },
      "source": [
        "Let's starting off with getting to know the data. Here are the first few rows of the dataset."
      ],
      "id": "7V_augjOjfdW"
    },
    {
      "cell_type": "code",
      "execution_count": 3,
      "metadata": {
        "colab": {
          "base_uri": "https://localhost:8080/",
          "height": 456
        },
        "id": "HipxpjIXjgGd",
        "outputId": "ef1829fd-c75a-4b92-e01a-a63cf4fe6866"
      },
      "outputs": [
        {
          "output_type": "execute_result",
          "data": {
            "text/plain": [
              "      Name Type         Breed        Color       Sex   Size Date Of Birth  \\\n",
              "0     REMY  DOG        BEAGLE  BLACK/WHITE    Female    MED    04/11/2014   \n",
              "1   *RONDE  DOG  CHIHUAHUA SH          TAN  Neutered  SMALL    07/24/2020   \n",
              "2   *SNOOP  CAT   DOMESTIC SH         GRAY  Neutered  SMALL    08/04/2019   \n",
              "3     FIFI  CAT       SIAMESE      SEAL PT    Spayed  KITTN    10/27/2020   \n",
              "4  *MERLIN  CAT   DOMESTIC SH    BRN TABBY  Neutered  SMALL    01/16/2018   \n",
              "\n",
              "  Impound Number Kennel Number Animal ID  ...    Intake Subtype  \\\n",
              "0     K21-039564          DS69   A406645  ...             PHONE   \n",
              "1     K21-039133          DA30   A406003  ...             FIELD   \n",
              "2     K21-039232          CA02   A406151  ...             FIELD   \n",
              "3     K21-037796          CA03   A402286  ...  OVER THE COUNTER   \n",
              "4     K21-037709          CS05   A402139  ...             PHONE   \n",
              "\n",
              "      Outcome Type       Outcome Subtype Intake Condition Outcome Condition  \\\n",
              "0  RETURN TO OWNER  OVER THE COUNTER_WEB          UNKNOWN           PENDING   \n",
              "1         ADOPTION              SCAS WEB          HEALTHY           HEALTHY   \n",
              "2         ADOPTION              SCAS WEB          HEALTHY           HEALTHY   \n",
              "3         ADOPTION              SCAS WEB          UNKNOWN           PENDING   \n",
              "4         ADOPTION              SCAS WEB          UNKNOWN           PENDING   \n",
              "\n",
              "  Intake Jurisdiction Outcome Jurisdiction Outcome Zip Code  \\\n",
              "0          SANTA ROSA           SANTA ROSA          95407.0   \n",
              "1          SANTA ROSA            *PETALUMA          94954.0   \n",
              "2          SANTA ROSA           SANTA ROSA          95405.0   \n",
              "3          SANTA ROSA           SANTA ROSA          95407.0   \n",
              "4          SANTA ROSA               COUNTY          94952.0   \n",
              "\n",
              "                        Location Count  \n",
              "0  95407(38.403734, -122.736775)     1  \n",
              "1   94954(38.245316, -122.59871)     1  \n",
              "2  95405(38.439152, -122.672541)     1  \n",
              "3  95407(38.403734, -122.736775)     1  \n",
              "4  94952(38.236012, -122.730241)     1  \n",
              "\n",
              "[5 rows x 24 columns]"
            ],
            "text/html": [
              "\n",
              "  <div id=\"df-4d362ca0-cc03-4d27-b77e-cadeb2c85718\">\n",
              "    <div class=\"colab-df-container\">\n",
              "      <div>\n",
              "<style scoped>\n",
              "    .dataframe tbody tr th:only-of-type {\n",
              "        vertical-align: middle;\n",
              "    }\n",
              "\n",
              "    .dataframe tbody tr th {\n",
              "        vertical-align: top;\n",
              "    }\n",
              "\n",
              "    .dataframe thead th {\n",
              "        text-align: right;\n",
              "    }\n",
              "</style>\n",
              "<table border=\"1\" class=\"dataframe\">\n",
              "  <thead>\n",
              "    <tr style=\"text-align: right;\">\n",
              "      <th></th>\n",
              "      <th>Name</th>\n",
              "      <th>Type</th>\n",
              "      <th>Breed</th>\n",
              "      <th>Color</th>\n",
              "      <th>Sex</th>\n",
              "      <th>Size</th>\n",
              "      <th>Date Of Birth</th>\n",
              "      <th>Impound Number</th>\n",
              "      <th>Kennel Number</th>\n",
              "      <th>Animal ID</th>\n",
              "      <th>...</th>\n",
              "      <th>Intake Subtype</th>\n",
              "      <th>Outcome Type</th>\n",
              "      <th>Outcome Subtype</th>\n",
              "      <th>Intake Condition</th>\n",
              "      <th>Outcome Condition</th>\n",
              "      <th>Intake Jurisdiction</th>\n",
              "      <th>Outcome Jurisdiction</th>\n",
              "      <th>Outcome Zip Code</th>\n",
              "      <th>Location</th>\n",
              "      <th>Count</th>\n",
              "    </tr>\n",
              "  </thead>\n",
              "  <tbody>\n",
              "    <tr>\n",
              "      <th>0</th>\n",
              "      <td>REMY</td>\n",
              "      <td>DOG</td>\n",
              "      <td>BEAGLE</td>\n",
              "      <td>BLACK/WHITE</td>\n",
              "      <td>Female</td>\n",
              "      <td>MED</td>\n",
              "      <td>04/11/2014</td>\n",
              "      <td>K21-039564</td>\n",
              "      <td>DS69</td>\n",
              "      <td>A406645</td>\n",
              "      <td>...</td>\n",
              "      <td>PHONE</td>\n",
              "      <td>RETURN TO OWNER</td>\n",
              "      <td>OVER THE COUNTER_WEB</td>\n",
              "      <td>UNKNOWN</td>\n",
              "      <td>PENDING</td>\n",
              "      <td>SANTA ROSA</td>\n",
              "      <td>SANTA ROSA</td>\n",
              "      <td>95407.0</td>\n",
              "      <td>95407(38.403734, -122.736775)</td>\n",
              "      <td>1</td>\n",
              "    </tr>\n",
              "    <tr>\n",
              "      <th>1</th>\n",
              "      <td>*RONDE</td>\n",
              "      <td>DOG</td>\n",
              "      <td>CHIHUAHUA SH</td>\n",
              "      <td>TAN</td>\n",
              "      <td>Neutered</td>\n",
              "      <td>SMALL</td>\n",
              "      <td>07/24/2020</td>\n",
              "      <td>K21-039133</td>\n",
              "      <td>DA30</td>\n",
              "      <td>A406003</td>\n",
              "      <td>...</td>\n",
              "      <td>FIELD</td>\n",
              "      <td>ADOPTION</td>\n",
              "      <td>SCAS WEB</td>\n",
              "      <td>HEALTHY</td>\n",
              "      <td>HEALTHY</td>\n",
              "      <td>SANTA ROSA</td>\n",
              "      <td>*PETALUMA</td>\n",
              "      <td>94954.0</td>\n",
              "      <td>94954(38.245316, -122.59871)</td>\n",
              "      <td>1</td>\n",
              "    </tr>\n",
              "    <tr>\n",
              "      <th>2</th>\n",
              "      <td>*SNOOP</td>\n",
              "      <td>CAT</td>\n",
              "      <td>DOMESTIC SH</td>\n",
              "      <td>GRAY</td>\n",
              "      <td>Neutered</td>\n",
              "      <td>SMALL</td>\n",
              "      <td>08/04/2019</td>\n",
              "      <td>K21-039232</td>\n",
              "      <td>CA02</td>\n",
              "      <td>A406151</td>\n",
              "      <td>...</td>\n",
              "      <td>FIELD</td>\n",
              "      <td>ADOPTION</td>\n",
              "      <td>SCAS WEB</td>\n",
              "      <td>HEALTHY</td>\n",
              "      <td>HEALTHY</td>\n",
              "      <td>SANTA ROSA</td>\n",
              "      <td>SANTA ROSA</td>\n",
              "      <td>95405.0</td>\n",
              "      <td>95405(38.439152, -122.672541)</td>\n",
              "      <td>1</td>\n",
              "    </tr>\n",
              "    <tr>\n",
              "      <th>3</th>\n",
              "      <td>FIFI</td>\n",
              "      <td>CAT</td>\n",
              "      <td>SIAMESE</td>\n",
              "      <td>SEAL PT</td>\n",
              "      <td>Spayed</td>\n",
              "      <td>KITTN</td>\n",
              "      <td>10/27/2020</td>\n",
              "      <td>K21-037796</td>\n",
              "      <td>CA03</td>\n",
              "      <td>A402286</td>\n",
              "      <td>...</td>\n",
              "      <td>OVER THE COUNTER</td>\n",
              "      <td>ADOPTION</td>\n",
              "      <td>SCAS WEB</td>\n",
              "      <td>UNKNOWN</td>\n",
              "      <td>PENDING</td>\n",
              "      <td>SANTA ROSA</td>\n",
              "      <td>SANTA ROSA</td>\n",
              "      <td>95407.0</td>\n",
              "      <td>95407(38.403734, -122.736775)</td>\n",
              "      <td>1</td>\n",
              "    </tr>\n",
              "    <tr>\n",
              "      <th>4</th>\n",
              "      <td>*MERLIN</td>\n",
              "      <td>CAT</td>\n",
              "      <td>DOMESTIC SH</td>\n",
              "      <td>BRN TABBY</td>\n",
              "      <td>Neutered</td>\n",
              "      <td>SMALL</td>\n",
              "      <td>01/16/2018</td>\n",
              "      <td>K21-037709</td>\n",
              "      <td>CS05</td>\n",
              "      <td>A402139</td>\n",
              "      <td>...</td>\n",
              "      <td>PHONE</td>\n",
              "      <td>ADOPTION</td>\n",
              "      <td>SCAS WEB</td>\n",
              "      <td>UNKNOWN</td>\n",
              "      <td>PENDING</td>\n",
              "      <td>SANTA ROSA</td>\n",
              "      <td>COUNTY</td>\n",
              "      <td>94952.0</td>\n",
              "      <td>94952(38.236012, -122.730241)</td>\n",
              "      <td>1</td>\n",
              "    </tr>\n",
              "  </tbody>\n",
              "</table>\n",
              "<p>5 rows × 24 columns</p>\n",
              "</div>\n",
              "      <button class=\"colab-df-convert\" onclick=\"convertToInteractive('df-4d362ca0-cc03-4d27-b77e-cadeb2c85718')\"\n",
              "              title=\"Convert this dataframe to an interactive table.\"\n",
              "              style=\"display:none;\">\n",
              "        \n",
              "  <svg xmlns=\"http://www.w3.org/2000/svg\" height=\"24px\"viewBox=\"0 0 24 24\"\n",
              "       width=\"24px\">\n",
              "    <path d=\"M0 0h24v24H0V0z\" fill=\"none\"/>\n",
              "    <path d=\"M18.56 5.44l.94 2.06.94-2.06 2.06-.94-2.06-.94-.94-2.06-.94 2.06-2.06.94zm-11 1L8.5 8.5l.94-2.06 2.06-.94-2.06-.94L8.5 2.5l-.94 2.06-2.06.94zm10 10l.94 2.06.94-2.06 2.06-.94-2.06-.94-.94-2.06-.94 2.06-2.06.94z\"/><path d=\"M17.41 7.96l-1.37-1.37c-.4-.4-.92-.59-1.43-.59-.52 0-1.04.2-1.43.59L10.3 9.45l-7.72 7.72c-.78.78-.78 2.05 0 2.83L4 21.41c.39.39.9.59 1.41.59.51 0 1.02-.2 1.41-.59l7.78-7.78 2.81-2.81c.8-.78.8-2.07 0-2.86zM5.41 20L4 18.59l7.72-7.72 1.47 1.35L5.41 20z\"/>\n",
              "  </svg>\n",
              "      </button>\n",
              "      \n",
              "  <style>\n",
              "    .colab-df-container {\n",
              "      display:flex;\n",
              "      flex-wrap:wrap;\n",
              "      gap: 12px;\n",
              "    }\n",
              "\n",
              "    .colab-df-convert {\n",
              "      background-color: #E8F0FE;\n",
              "      border: none;\n",
              "      border-radius: 50%;\n",
              "      cursor: pointer;\n",
              "      display: none;\n",
              "      fill: #1967D2;\n",
              "      height: 32px;\n",
              "      padding: 0 0 0 0;\n",
              "      width: 32px;\n",
              "    }\n",
              "\n",
              "    .colab-df-convert:hover {\n",
              "      background-color: #E2EBFA;\n",
              "      box-shadow: 0px 1px 2px rgba(60, 64, 67, 0.3), 0px 1px 3px 1px rgba(60, 64, 67, 0.15);\n",
              "      fill: #174EA6;\n",
              "    }\n",
              "\n",
              "    [theme=dark] .colab-df-convert {\n",
              "      background-color: #3B4455;\n",
              "      fill: #D2E3FC;\n",
              "    }\n",
              "\n",
              "    [theme=dark] .colab-df-convert:hover {\n",
              "      background-color: #434B5C;\n",
              "      box-shadow: 0px 1px 3px 1px rgba(0, 0, 0, 0.15);\n",
              "      filter: drop-shadow(0px 1px 2px rgba(0, 0, 0, 0.3));\n",
              "      fill: #FFFFFF;\n",
              "    }\n",
              "  </style>\n",
              "\n",
              "      <script>\n",
              "        const buttonEl =\n",
              "          document.querySelector('#df-4d362ca0-cc03-4d27-b77e-cadeb2c85718 button.colab-df-convert');\n",
              "        buttonEl.style.display =\n",
              "          google.colab.kernel.accessAllowed ? 'block' : 'none';\n",
              "\n",
              "        async function convertToInteractive(key) {\n",
              "          const element = document.querySelector('#df-4d362ca0-cc03-4d27-b77e-cadeb2c85718');\n",
              "          const dataTable =\n",
              "            await google.colab.kernel.invokeFunction('convertToInteractive',\n",
              "                                                     [key], {});\n",
              "          if (!dataTable) return;\n",
              "\n",
              "          const docLinkHtml = 'Like what you see? Visit the ' +\n",
              "            '<a target=\"_blank\" href=https://colab.research.google.com/notebooks/data_table.ipynb>data table notebook</a>'\n",
              "            + ' to learn more about interactive tables.';\n",
              "          element.innerHTML = '';\n",
              "          dataTable['output_type'] = 'display_data';\n",
              "          await google.colab.output.renderOutput(dataTable, element);\n",
              "          const docLink = document.createElement('div');\n",
              "          docLink.innerHTML = docLinkHtml;\n",
              "          element.appendChild(docLink);\n",
              "        }\n",
              "      </script>\n",
              "    </div>\n",
              "  </div>\n",
              "  "
            ]
          },
          "metadata": {},
          "execution_count": 3
        }
      ],
      "source": [
        "df.head()"
      ],
      "id": "HipxpjIXjgGd"
    },
    {
      "cell_type": "markdown",
      "metadata": {
        "id": "hr3lQLC8YSOk"
      },
      "source": [
        "We can see that there are 24 different columns, the first few rows gives us an idea about the type of data in the columns. "
      ],
      "id": "hr3lQLC8YSOk"
    },
    {
      "cell_type": "markdown",
      "metadata": {
        "id": "4wWT9xtpUdov"
      },
      "source": [
        "To get a more concise summary of the dataframe:"
      ],
      "id": "4wWT9xtpUdov"
    },
    {
      "cell_type": "code",
      "execution_count": 4,
      "metadata": {
        "colab": {
          "base_uri": "https://localhost:8080/"
        },
        "id": "6Q8nm8nwUwzY",
        "outputId": "93e2dda1-c675-4416-a302-44e255a4b15e"
      },
      "outputs": [
        {
          "output_type": "stream",
          "name": "stdout",
          "text": [
            "<class 'pandas.core.frame.DataFrame'>\n",
            "RangeIndex: 22108 entries, 0 to 22107\n",
            "Data columns (total 24 columns):\n",
            " #   Column                Non-Null Count  Dtype  \n",
            "---  ------                --------------  -----  \n",
            " 0   Name                  16406 non-null  object \n",
            " 1   Type                  22108 non-null  object \n",
            " 2   Breed                 22108 non-null  object \n",
            " 3   Color                 22108 non-null  object \n",
            " 4   Sex                   22108 non-null  object \n",
            " 5   Size                  22075 non-null  object \n",
            " 6   Date Of Birth         16709 non-null  object \n",
            " 7   Impound Number        22108 non-null  object \n",
            " 8   Kennel Number         22099 non-null  object \n",
            " 9   Animal ID             22108 non-null  object \n",
            " 10  Intake Date           22108 non-null  object \n",
            " 11  Outcome Date          21972 non-null  object \n",
            " 12  Days in Shelter       22108 non-null  int64  \n",
            " 13  Intake Type           22108 non-null  object \n",
            " 14  Intake Subtype        22108 non-null  object \n",
            " 15  Outcome Type          21966 non-null  object \n",
            " 16  Outcome Subtype       21667 non-null  object \n",
            " 17  Intake Condition      22108 non-null  object \n",
            " 18  Outcome Condition     21637 non-null  object \n",
            " 19  Intake Jurisdiction   22108 non-null  object \n",
            " 20  Outcome Jurisdiction  19003 non-null  object \n",
            " 21  Outcome Zip Code      18924 non-null  float64\n",
            " 22  Location              18924 non-null  object \n",
            " 23  Count                 22108 non-null  int64  \n",
            "dtypes: float64(1), int64(2), object(21)\n",
            "memory usage: 4.0+ MB\n"
          ]
        }
      ],
      "source": [
        "df.info()"
      ],
      "id": "6Q8nm8nwUwzY"
    },
    {
      "cell_type": "markdown",
      "metadata": {
        "id": "iGkBTLO9Uzx8"
      },
      "source": [
        "We can see that the data cansists of 22108 enteries/rows and 24 features/columns. Most of the columns have object(String) values. The only numeric data types are zip codes(floating/decimal values), days in shelter and count(integer values). \n",
        "\n",
        "----------------\n",
        "Short description of each feature in the dataset:\n",
        "\n",
        "|Coloumn Name|Description|\n",
        "|---|---|\n",
        "|Name|Name of the animal|\n",
        "|Type|Type of animal|\n",
        "|Breed|Breed of animal|\n",
        "|Color|Color of animal|\n",
        "|Sex|Male, Female, Neutered Male, Spayed Female|\n",
        "|Size|Large, medium, small|\n",
        "|Date Of Birth|Approximate date of birth.|\n",
        "|Impound Number|Animal impound number\n",
        "|Kennel Number|Kennel number indicating its current location.\n",
        "|Animal ID\t|Unique ID\n",
        "|Intake Date|Date animal was taken into the shelter\n",
        "|Outcome Date\t|Date animal left the shelter\n",
        "|Days in Shelter|Number of days the animal was in the shelter|\n",
        "|Intake Type|Reason for intake\n",
        "|Intake Subtype\t|Sub reason for intake\n",
        "|Outcome Type\t|Reason for release from shelter\n",
        "|Outcome Subtype|Sub reason for release from shelter\n",
        "|Intake Condition\t|Animals condition at intake\n",
        "|Outcome Condition\t|Animals condition at release from shelter\n",
        "|Intake Jurisdiction\t|Jurisdiction responsible for animal intake\n",
        "|Outcome Jurisdiction\t|Area animal went to.\n",
        "|Outcome Zip Code\t|Zip code where animal went to.\n",
        "|Location\t|Latitude, Longitude coordinates for outcome jurisdiction\n",
        "|Count\t|Column for performing arithmetic and creating groups for views and visualizations"
      ],
      "id": "iGkBTLO9Uzx8"
    },
    {
      "cell_type": "markdown",
      "metadata": {
        "id": "poZj3auwa8PE"
      },
      "source": [
        "Let's look at more statistical details of the dataset."
      ],
      "id": "poZj3auwa8PE"
    },
    {
      "cell_type": "code",
      "execution_count": 5,
      "metadata": {
        "colab": {
          "base_uri": "https://localhost:8080/",
          "height": 300
        },
        "id": "YwefCuc6bCay",
        "outputId": "bff0e923-8c40-4827-9b0d-de47990e7cad"
      },
      "outputs": [
        {
          "output_type": "execute_result",
          "data": {
            "text/plain": [
              "       Days in Shelter  Outcome Zip Code     Count\n",
              "count         22108.00          18924.00  22108.00\n",
              "mean             17.52          95006.55      1.00\n",
              "std              34.42           3863.69      0.05\n",
              "min               0.00           1922.00      0.00\n",
              "25%               1.00          95401.00      1.00\n",
              "50%               8.00          95404.00      1.00\n",
              "75%              22.00          95436.00      1.00\n",
              "max            1239.00          99701.00      1.00"
            ],
            "text/html": [
              "\n",
              "  <div id=\"df-4b83d30f-a903-4237-91bf-6445f7268d89\">\n",
              "    <div class=\"colab-df-container\">\n",
              "      <div>\n",
              "<style scoped>\n",
              "    .dataframe tbody tr th:only-of-type {\n",
              "        vertical-align: middle;\n",
              "    }\n",
              "\n",
              "    .dataframe tbody tr th {\n",
              "        vertical-align: top;\n",
              "    }\n",
              "\n",
              "    .dataframe thead th {\n",
              "        text-align: right;\n",
              "    }\n",
              "</style>\n",
              "<table border=\"1\" class=\"dataframe\">\n",
              "  <thead>\n",
              "    <tr style=\"text-align: right;\">\n",
              "      <th></th>\n",
              "      <th>Days in Shelter</th>\n",
              "      <th>Outcome Zip Code</th>\n",
              "      <th>Count</th>\n",
              "    </tr>\n",
              "  </thead>\n",
              "  <tbody>\n",
              "    <tr>\n",
              "      <th>count</th>\n",
              "      <td>22108.00</td>\n",
              "      <td>18924.00</td>\n",
              "      <td>22108.00</td>\n",
              "    </tr>\n",
              "    <tr>\n",
              "      <th>mean</th>\n",
              "      <td>17.52</td>\n",
              "      <td>95006.55</td>\n",
              "      <td>1.00</td>\n",
              "    </tr>\n",
              "    <tr>\n",
              "      <th>std</th>\n",
              "      <td>34.42</td>\n",
              "      <td>3863.69</td>\n",
              "      <td>0.05</td>\n",
              "    </tr>\n",
              "    <tr>\n",
              "      <th>min</th>\n",
              "      <td>0.00</td>\n",
              "      <td>1922.00</td>\n",
              "      <td>0.00</td>\n",
              "    </tr>\n",
              "    <tr>\n",
              "      <th>25%</th>\n",
              "      <td>1.00</td>\n",
              "      <td>95401.00</td>\n",
              "      <td>1.00</td>\n",
              "    </tr>\n",
              "    <tr>\n",
              "      <th>50%</th>\n",
              "      <td>8.00</td>\n",
              "      <td>95404.00</td>\n",
              "      <td>1.00</td>\n",
              "    </tr>\n",
              "    <tr>\n",
              "      <th>75%</th>\n",
              "      <td>22.00</td>\n",
              "      <td>95436.00</td>\n",
              "      <td>1.00</td>\n",
              "    </tr>\n",
              "    <tr>\n",
              "      <th>max</th>\n",
              "      <td>1239.00</td>\n",
              "      <td>99701.00</td>\n",
              "      <td>1.00</td>\n",
              "    </tr>\n",
              "  </tbody>\n",
              "</table>\n",
              "</div>\n",
              "      <button class=\"colab-df-convert\" onclick=\"convertToInteractive('df-4b83d30f-a903-4237-91bf-6445f7268d89')\"\n",
              "              title=\"Convert this dataframe to an interactive table.\"\n",
              "              style=\"display:none;\">\n",
              "        \n",
              "  <svg xmlns=\"http://www.w3.org/2000/svg\" height=\"24px\"viewBox=\"0 0 24 24\"\n",
              "       width=\"24px\">\n",
              "    <path d=\"M0 0h24v24H0V0z\" fill=\"none\"/>\n",
              "    <path d=\"M18.56 5.44l.94 2.06.94-2.06 2.06-.94-2.06-.94-.94-2.06-.94 2.06-2.06.94zm-11 1L8.5 8.5l.94-2.06 2.06-.94-2.06-.94L8.5 2.5l-.94 2.06-2.06.94zm10 10l.94 2.06.94-2.06 2.06-.94-2.06-.94-.94-2.06-.94 2.06-2.06.94z\"/><path d=\"M17.41 7.96l-1.37-1.37c-.4-.4-.92-.59-1.43-.59-.52 0-1.04.2-1.43.59L10.3 9.45l-7.72 7.72c-.78.78-.78 2.05 0 2.83L4 21.41c.39.39.9.59 1.41.59.51 0 1.02-.2 1.41-.59l7.78-7.78 2.81-2.81c.8-.78.8-2.07 0-2.86zM5.41 20L4 18.59l7.72-7.72 1.47 1.35L5.41 20z\"/>\n",
              "  </svg>\n",
              "      </button>\n",
              "      \n",
              "  <style>\n",
              "    .colab-df-container {\n",
              "      display:flex;\n",
              "      flex-wrap:wrap;\n",
              "      gap: 12px;\n",
              "    }\n",
              "\n",
              "    .colab-df-convert {\n",
              "      background-color: #E8F0FE;\n",
              "      border: none;\n",
              "      border-radius: 50%;\n",
              "      cursor: pointer;\n",
              "      display: none;\n",
              "      fill: #1967D2;\n",
              "      height: 32px;\n",
              "      padding: 0 0 0 0;\n",
              "      width: 32px;\n",
              "    }\n",
              "\n",
              "    .colab-df-convert:hover {\n",
              "      background-color: #E2EBFA;\n",
              "      box-shadow: 0px 1px 2px rgba(60, 64, 67, 0.3), 0px 1px 3px 1px rgba(60, 64, 67, 0.15);\n",
              "      fill: #174EA6;\n",
              "    }\n",
              "\n",
              "    [theme=dark] .colab-df-convert {\n",
              "      background-color: #3B4455;\n",
              "      fill: #D2E3FC;\n",
              "    }\n",
              "\n",
              "    [theme=dark] .colab-df-convert:hover {\n",
              "      background-color: #434B5C;\n",
              "      box-shadow: 0px 1px 3px 1px rgba(0, 0, 0, 0.15);\n",
              "      filter: drop-shadow(0px 1px 2px rgba(0, 0, 0, 0.3));\n",
              "      fill: #FFFFFF;\n",
              "    }\n",
              "  </style>\n",
              "\n",
              "      <script>\n",
              "        const buttonEl =\n",
              "          document.querySelector('#df-4b83d30f-a903-4237-91bf-6445f7268d89 button.colab-df-convert');\n",
              "        buttonEl.style.display =\n",
              "          google.colab.kernel.accessAllowed ? 'block' : 'none';\n",
              "\n",
              "        async function convertToInteractive(key) {\n",
              "          const element = document.querySelector('#df-4b83d30f-a903-4237-91bf-6445f7268d89');\n",
              "          const dataTable =\n",
              "            await google.colab.kernel.invokeFunction('convertToInteractive',\n",
              "                                                     [key], {});\n",
              "          if (!dataTable) return;\n",
              "\n",
              "          const docLinkHtml = 'Like what you see? Visit the ' +\n",
              "            '<a target=\"_blank\" href=https://colab.research.google.com/notebooks/data_table.ipynb>data table notebook</a>'\n",
              "            + ' to learn more about interactive tables.';\n",
              "          element.innerHTML = '';\n",
              "          dataTable['output_type'] = 'display_data';\n",
              "          await google.colab.output.renderOutput(dataTable, element);\n",
              "          const docLink = document.createElement('div');\n",
              "          docLink.innerHTML = docLinkHtml;\n",
              "          element.appendChild(docLink);\n",
              "        }\n",
              "      </script>\n",
              "    </div>\n",
              "  </div>\n",
              "  "
            ]
          },
          "metadata": {},
          "execution_count": 5
        }
      ],
      "source": [
        "df.describe().round(2)"
      ],
      "id": "YwefCuc6bCay"
    },
    {
      "cell_type": "markdown",
      "metadata": {
        "id": "HzjqtvyZblZ4"
      },
      "source": [
        "In the 'Days in Shelter' coloumn, the last row shows the maximum number of days animal(s) have stayed at the shelter which is 1239 days/approx 40 months, while the average is just 17 days! Even the 75 percentile value is 22 days. This could mean that either very few animals stay at the shelter for a long time or there are some outliers."
      ],
      "id": "HzjqtvyZblZ4"
    },
    {
      "cell_type": "markdown",
      "metadata": {
        "id": "RWtNbw5OahW5"
      },
      "source": [
        "Let's look for outliers:"
      ],
      "id": "RWtNbw5OahW5"
    },
    {
      "cell_type": "code",
      "execution_count": 6,
      "metadata": {
        "colab": {
          "base_uri": "https://localhost:8080/",
          "height": 226
        },
        "id": "jUPsFwXBX_j0",
        "outputId": "f48ffd5c-0125-40a3-d621-30765063eadf"
      },
      "outputs": [
        {
          "output_type": "execute_result",
          "data": {
            "text/plain": [
              "        Name Type        Breed Color       Sex   Size Date Of Birth  \\\n",
              "829  CHARLIE  DOG  GOLDEN RETR  GOLD  Neutered  LARGE    10/27/2014   \n",
              "\n",
              "    Impound Number Kennel Number Animal ID  ... Intake Subtype Outcome Type  \\\n",
              "829     K18-028173       FREEZER   A319664  ...     FLD_CORONR     DISPOSAL   \n",
              "\n",
              "     Outcome Subtype Intake Condition Outcome Condition Intake Jurisdiction  \\\n",
              "829              DOA          UNKNOWN              DEAD              COUNTY   \n",
              "\n",
              "    Outcome Jurisdiction Outcome Zip Code                       Location Count  \n",
              "829               COUNTY          94952.0  94952(38.236012, -122.730241)     1  \n",
              "\n",
              "[1 rows x 24 columns]"
            ],
            "text/html": [
              "\n",
              "  <div id=\"df-4b43571a-6e17-4eb1-9ee9-465ff82ed2f1\">\n",
              "    <div class=\"colab-df-container\">\n",
              "      <div>\n",
              "<style scoped>\n",
              "    .dataframe tbody tr th:only-of-type {\n",
              "        vertical-align: middle;\n",
              "    }\n",
              "\n",
              "    .dataframe tbody tr th {\n",
              "        vertical-align: top;\n",
              "    }\n",
              "\n",
              "    .dataframe thead th {\n",
              "        text-align: right;\n",
              "    }\n",
              "</style>\n",
              "<table border=\"1\" class=\"dataframe\">\n",
              "  <thead>\n",
              "    <tr style=\"text-align: right;\">\n",
              "      <th></th>\n",
              "      <th>Name</th>\n",
              "      <th>Type</th>\n",
              "      <th>Breed</th>\n",
              "      <th>Color</th>\n",
              "      <th>Sex</th>\n",
              "      <th>Size</th>\n",
              "      <th>Date Of Birth</th>\n",
              "      <th>Impound Number</th>\n",
              "      <th>Kennel Number</th>\n",
              "      <th>Animal ID</th>\n",
              "      <th>...</th>\n",
              "      <th>Intake Subtype</th>\n",
              "      <th>Outcome Type</th>\n",
              "      <th>Outcome Subtype</th>\n",
              "      <th>Intake Condition</th>\n",
              "      <th>Outcome Condition</th>\n",
              "      <th>Intake Jurisdiction</th>\n",
              "      <th>Outcome Jurisdiction</th>\n",
              "      <th>Outcome Zip Code</th>\n",
              "      <th>Location</th>\n",
              "      <th>Count</th>\n",
              "    </tr>\n",
              "  </thead>\n",
              "  <tbody>\n",
              "    <tr>\n",
              "      <th>829</th>\n",
              "      <td>CHARLIE</td>\n",
              "      <td>DOG</td>\n",
              "      <td>GOLDEN RETR</td>\n",
              "      <td>GOLD</td>\n",
              "      <td>Neutered</td>\n",
              "      <td>LARGE</td>\n",
              "      <td>10/27/2014</td>\n",
              "      <td>K18-028173</td>\n",
              "      <td>FREEZER</td>\n",
              "      <td>A319664</td>\n",
              "      <td>...</td>\n",
              "      <td>FLD_CORONR</td>\n",
              "      <td>DISPOSAL</td>\n",
              "      <td>DOA</td>\n",
              "      <td>UNKNOWN</td>\n",
              "      <td>DEAD</td>\n",
              "      <td>COUNTY</td>\n",
              "      <td>COUNTY</td>\n",
              "      <td>94952.0</td>\n",
              "      <td>94952(38.236012, -122.730241)</td>\n",
              "      <td>1</td>\n",
              "    </tr>\n",
              "  </tbody>\n",
              "</table>\n",
              "<p>1 rows × 24 columns</p>\n",
              "</div>\n",
              "      <button class=\"colab-df-convert\" onclick=\"convertToInteractive('df-4b43571a-6e17-4eb1-9ee9-465ff82ed2f1')\"\n",
              "              title=\"Convert this dataframe to an interactive table.\"\n",
              "              style=\"display:none;\">\n",
              "        \n",
              "  <svg xmlns=\"http://www.w3.org/2000/svg\" height=\"24px\"viewBox=\"0 0 24 24\"\n",
              "       width=\"24px\">\n",
              "    <path d=\"M0 0h24v24H0V0z\" fill=\"none\"/>\n",
              "    <path d=\"M18.56 5.44l.94 2.06.94-2.06 2.06-.94-2.06-.94-.94-2.06-.94 2.06-2.06.94zm-11 1L8.5 8.5l.94-2.06 2.06-.94-2.06-.94L8.5 2.5l-.94 2.06-2.06.94zm10 10l.94 2.06.94-2.06 2.06-.94-2.06-.94-.94-2.06-.94 2.06-2.06.94z\"/><path d=\"M17.41 7.96l-1.37-1.37c-.4-.4-.92-.59-1.43-.59-.52 0-1.04.2-1.43.59L10.3 9.45l-7.72 7.72c-.78.78-.78 2.05 0 2.83L4 21.41c.39.39.9.59 1.41.59.51 0 1.02-.2 1.41-.59l7.78-7.78 2.81-2.81c.8-.78.8-2.07 0-2.86zM5.41 20L4 18.59l7.72-7.72 1.47 1.35L5.41 20z\"/>\n",
              "  </svg>\n",
              "      </button>\n",
              "      \n",
              "  <style>\n",
              "    .colab-df-container {\n",
              "      display:flex;\n",
              "      flex-wrap:wrap;\n",
              "      gap: 12px;\n",
              "    }\n",
              "\n",
              "    .colab-df-convert {\n",
              "      background-color: #E8F0FE;\n",
              "      border: none;\n",
              "      border-radius: 50%;\n",
              "      cursor: pointer;\n",
              "      display: none;\n",
              "      fill: #1967D2;\n",
              "      height: 32px;\n",
              "      padding: 0 0 0 0;\n",
              "      width: 32px;\n",
              "    }\n",
              "\n",
              "    .colab-df-convert:hover {\n",
              "      background-color: #E2EBFA;\n",
              "      box-shadow: 0px 1px 2px rgba(60, 64, 67, 0.3), 0px 1px 3px 1px rgba(60, 64, 67, 0.15);\n",
              "      fill: #174EA6;\n",
              "    }\n",
              "\n",
              "    [theme=dark] .colab-df-convert {\n",
              "      background-color: #3B4455;\n",
              "      fill: #D2E3FC;\n",
              "    }\n",
              "\n",
              "    [theme=dark] .colab-df-convert:hover {\n",
              "      background-color: #434B5C;\n",
              "      box-shadow: 0px 1px 3px 1px rgba(0, 0, 0, 0.15);\n",
              "      filter: drop-shadow(0px 1px 2px rgba(0, 0, 0, 0.3));\n",
              "      fill: #FFFFFF;\n",
              "    }\n",
              "  </style>\n",
              "\n",
              "      <script>\n",
              "        const buttonEl =\n",
              "          document.querySelector('#df-4b43571a-6e17-4eb1-9ee9-465ff82ed2f1 button.colab-df-convert');\n",
              "        buttonEl.style.display =\n",
              "          google.colab.kernel.accessAllowed ? 'block' : 'none';\n",
              "\n",
              "        async function convertToInteractive(key) {\n",
              "          const element = document.querySelector('#df-4b43571a-6e17-4eb1-9ee9-465ff82ed2f1');\n",
              "          const dataTable =\n",
              "            await google.colab.kernel.invokeFunction('convertToInteractive',\n",
              "                                                     [key], {});\n",
              "          if (!dataTable) return;\n",
              "\n",
              "          const docLinkHtml = 'Like what you see? Visit the ' +\n",
              "            '<a target=\"_blank\" href=https://colab.research.google.com/notebooks/data_table.ipynb>data table notebook</a>'\n",
              "            + ' to learn more about interactive tables.';\n",
              "          element.innerHTML = '';\n",
              "          dataTable['output_type'] = 'display_data';\n",
              "          await google.colab.output.renderOutput(dataTable, element);\n",
              "          const docLink = document.createElement('div');\n",
              "          docLink.innerHTML = docLinkHtml;\n",
              "          element.appendChild(docLink);\n",
              "        }\n",
              "      </script>\n",
              "    </div>\n",
              "  </div>\n",
              "  "
            ]
          },
          "metadata": {},
          "execution_count": 6
        }
      ],
      "source": [
        "df[df['Days in Shelter'] == df['Days in Shelter'].max()]"
      ],
      "id": "jUPsFwXBX_j0"
    },
    {
      "cell_type": "markdown",
      "metadata": {
        "id": "rB7Yq2PAalyO"
      },
      "source": [
        "We can see that this dog was in the shelter for 1,239 days. The outcome condition and outcome type says that he was dead and disposed. It could be possible that his death was unrecognized by the shelter authorities and hence the record of his \"days at the shelter\" is inaccurate. "
      ],
      "id": "rB7Yq2PAalyO"
    },
    {
      "cell_type": "code",
      "execution_count": 7,
      "metadata": {
        "colab": {
          "base_uri": "https://localhost:8080/"
        },
        "id": "gKqoPyp7yCAF",
        "outputId": "42b14ce0-9fc5-41f9-885a-4dd41cf92e6c"
      },
      "outputs": [
        {
          "output_type": "execute_result",
          "data": {
            "text/plain": [
              "Name                     6080\n",
              "Type                        3\n",
              "Breed                     977\n",
              "Color                     327\n",
              "Sex                         5\n",
              "Size                        7\n",
              "Date Of Birth            5223\n",
              "Impound Number          22108\n",
              "Kennel Number             162\n",
              "Animal ID               19994\n",
              "Intake Date              2771\n",
              "Outcome Date             2449\n",
              "Days in Shelter           262\n",
              "Intake Type                 7\n",
              "Intake Subtype             29\n",
              "Outcome Type                9\n",
              "Outcome Subtype           227\n",
              "Intake Condition            5\n",
              "Outcome Condition           6\n",
              "Intake Jurisdiction        13\n",
              "Outcome Jurisdiction       12\n",
              "Outcome Zip Code          635\n",
              "Location                  635\n",
              "Count                       2\n",
              "dtype: int64"
            ]
          },
          "metadata": {},
          "execution_count": 7
        }
      ],
      "source": [
        "df.nunique()"
      ],
      "id": "gKqoPyp7yCAF"
    },
    {
      "cell_type": "markdown",
      "metadata": {
        "id": "vMKdxqhCgCxE"
      },
      "source": [
        "After looking at the unique values, we can group some of the variables that would be used ahead for the visualization accordingly:\n",
        "\n",
        ">**Discrete**: Name, date of birth, intake date, outtake date, days in shelter.\n",
        "\n",
        ">**Categorical**: Type, Sex, Size, intake type and condition , outcome type and condition.\n",
        "\n",
        ">**Boderline categorical**: Breed, color, location.\n",
        "\n",
        "\n"
      ],
      "id": "vMKdxqhCgCxE"
    },
    {
      "cell_type": "markdown",
      "metadata": {
        "id": "W3M0S4Ylmwb8"
      },
      "source": [
        "What type of animal is most found at the shelter?"
      ],
      "id": "W3M0S4Ylmwb8"
    },
    {
      "cell_type": "code",
      "execution_count": 8,
      "metadata": {
        "colab": {
          "base_uri": "https://localhost:8080/",
          "height": 320
        },
        "id": "9zsmyl_ryNAa",
        "outputId": "52edcf03-c3ec-4934-c78d-9b2cfa0f26d3"
      },
      "outputs": [
        {
          "output_type": "display_data",
          "data": {
            "text/plain": [
              "<Figure size 432x288 with 1 Axes>"
            ],
            "image/png": "[encoded data removed]"
          },
          "metadata": {
            "needs_background": "light"
          }
        }
      ],
      "source": [
        "df['Type'].value_counts(normalize=True).plot.bar()\n",
        "plt.title('Type of animals at the shelter')\n",
        "plt.xlabel('Animal Name')\n",
        "plt.ylabel('Frequency');"
      ],
      "id": "9zsmyl_ryNAa"
    },
    {
      "cell_type": "markdown",
      "metadata": {
        "id": "BqVI33MmoohX"
      },
      "source": [
        "This plot shows that the majority of the animal poplulation at the shelter consists of cats and dogs. \n",
        "\n",
        "With approximately:\n",
        "*   55-57% dogs\n",
        "*   35%    cats\n",
        "*   8-10%  other species"
      ],
      "id": "BqVI33MmoohX"
    },
    {
      "cell_type": "markdown",
      "metadata": {
        "id": "zQqLBXjOrHOZ"
      },
      "source": [
        "What are these \"OTHER\" species?\n",
        "> Apart from dogs and cats, what other animals are at the shelter?\n",
        "\n",
        "Since there are a lot of other species, let's just look at the top 10 species based on their population. "
      ],
      "id": "zQqLBXjOrHOZ"
    },
    {
      "cell_type": "code",
      "execution_count": 9,
      "metadata": {
        "colab": {
          "base_uri": "https://localhost:8080/",
          "height": 344
        },
        "id": "QXx_zhr7nngZ",
        "outputId": "ba933882-495f-4ed2-8521-3a2c77ab8861"
      },
      "outputs": [
        {
          "output_type": "display_data",
          "data": {
            "text/plain": [
              "<Figure size 432x288 with 1 Axes>"
            ],
            "image/png": "[encoded data removed]"
          },
          "metadata": {
            "needs_background": "light"
          }
        }
      ],
      "source": [
        "df[df['Type']=='OTHER']['Breed'].value_counts()[:10].plot.bar();\n",
        "plt.title('Other type of animals at the shelter')\n",
        "plt.xlabel('Animal Name')\n",
        "plt.ylabel('Count');"
      ],
      "id": "QXx_zhr7nngZ"
    },
    {
      "cell_type": "markdown",
      "metadata": {
        "id": "zN7ABnGAsOmN"
      },
      "source": [
        "These top 10 other species at the shelter include: \n",
        "\n",
        "rabbits, chickens, bats, goats, guinea pigs, sheeps, rats, horses, parakeets, and pigs."
      ],
      "id": "zN7ABnGAsOmN"
    },
    {
      "cell_type": "markdown",
      "metadata": {
        "id": "ZLbD8Wj0tGbl"
      },
      "source": [
        "Which breeds of dogs and cats are the most found at the shelter?"
      ],
      "id": "ZLbD8Wj0tGbl"
    },
    {
      "cell_type": "code",
      "execution_count": 10,
      "metadata": {
        "colab": {
          "base_uri": "https://localhost:8080/",
          "height": 386
        },
        "id": "BRJjEzG2tfBp",
        "outputId": "ab124efb-0d44-4c28-b066-f73e1632c4e6"
      },
      "outputs": [
        {
          "output_type": "display_data",
          "data": {
            "text/plain": [
              "<Figure size 432x288 with 1 Axes>"
            ],
            "image/png": "[encoded data removed]"
          },
          "metadata": {
            "needs_background": "light"
          }
        }
      ],
      "source": [
        "df[df['Type']=='DOG']['Breed'].value_counts()[:10].plot.bar()\n",
        "plt.title(\"Type of dogs at the shelter\");"
      ],
      "id": "BRJjEzG2tfBp"
    },
    {
      "cell_type": "markdown",
      "source": [
        "This bar plot shows the top 10 different dog breeds at the shelter and their count. \n",
        "\n",
        "From this plot we can see that Pit Bulls make up for most of the dog population at the shelter."
      ],
      "metadata": {
        "id": "qNknnGMYtzS9"
      },
      "id": "qNknnGMYtzS9"
    },
    {
      "cell_type": "code",
      "execution_count": 11,
      "metadata": {
        "colab": {
          "base_uri": "https://localhost:8080/",
          "height": 350
        },
        "id": "dGP7jVXUuO_O",
        "outputId": "fd3aed30-109f-4edc-defb-a3323156cef0"
      },
      "outputs": [
        {
          "output_type": "display_data",
          "data": {
            "text/plain": [
              "<Figure size 432x288 with 1 Axes>"
            ],
            "image/png": "[encoded data removed]"
          },
          "metadata": {
            "needs_background": "light"
          }
        }
      ],
      "source": [
        "df[df['Type']=='CAT']['Breed'].value_counts()[:10].plot.bar(); \n",
        "plt.title(\"Type of dogs at the shelter\");"
      ],
      "id": "dGP7jVXUuO_O"
    },
    {
      "cell_type": "markdown",
      "metadata": {
        "id": "lYb7r9nYvp70"
      },
      "source": [
        "Here we can see that Domestic Short Hair Cats are most seen in the shelter.\n",
        "\n",
        "These two bar plots show that there is a more diverse dog breed population in comparison to cat breeds in the animal shelter. "
      ],
      "id": "lYb7r9nYvp70"
    },
    {
      "cell_type": "markdown",
      "metadata": {
        "id": "sTQ-39t6zlG8"
      },
      "source": [
        "What is the age of these animals at the shelter?\n",
        "> Even if we don't have a column that tells us about the age of an animal, we can calculate it using the Date Of Birth Column."
      ],
      "id": "sTQ-39t6zlG8"
    },
    {
      "cell_type": "code",
      "execution_count": 12,
      "metadata": {
        "colab": {
          "base_uri": "https://localhost:8080/"
        },
        "id": "_21XsiLxvZV3",
        "outputId": "ed1162b7-081b-410f-aa4a-055b8f6703a9"
      },
      "outputs": [
        {
          "output_type": "stream",
          "name": "stdout",
          "text": [
            "<class 'pandas.core.frame.DataFrame'>\n",
            "RangeIndex: 22108 entries, 0 to 22107\n",
            "Data columns (total 25 columns):\n",
            " #   Column                Non-Null Count  Dtype         \n",
            "---  ------                --------------  -----         \n",
            " 0   Name                  16406 non-null  object        \n",
            " 1   Type                  22108 non-null  object        \n",
            " 2   Breed                 22108 non-null  object        \n",
            " 3   Color                 22108 non-null  object        \n",
            " 4   Sex                   22108 non-null  object        \n",
            " 5   Size                  22075 non-null  object        \n",
            " 6   Date Of Birth         16709 non-null  datetime64[ns]\n",
            " 7   Impound Number        22108 non-null  object        \n",
            " 8   Kennel Number         22099 non-null  object        \n",
            " 9   Animal ID             22108 non-null  object        \n",
            " 10  Intake Date           22108 non-null  object        \n",
            " 11  Outcome Date          21972 non-null  object        \n",
            " 12  Days in Shelter       22108 non-null  int64         \n",
            " 13  Intake Type           22108 non-null  object        \n",
            " 14  Intake Subtype        22108 non-null  object        \n",
            " 15  Outcome Type          21966 non-null  object        \n",
            " 16  Outcome Subtype       21667 non-null  object        \n",
            " 17  Intake Condition      22108 non-null  object        \n",
            " 18  Outcome Condition     21637 non-null  object        \n",
            " 19  Intake Jurisdiction   22108 non-null  object        \n",
            " 20  Outcome Jurisdiction  19003 non-null  object        \n",
            " 21  Outcome Zip Code      18924 non-null  float64       \n",
            " 22  Location              18924 non-null  object        \n",
            " 23  Count                 22108 non-null  int64         \n",
            " 24  Age                   16709 non-null  float64       \n",
            "dtypes: datetime64[ns](1), float64(2), int64(2), object(20)\n",
            "memory usage: 4.2+ MB\n"
          ]
        }
      ],
      "source": [
        "df['Date Of Birth'] = pd.to_datetime(df['Date Of Birth'])\n",
        "def get_age(born):\n",
        "    today = datetime.date.today()\n",
        "    return today.year - born.year - ((today.month, today.day) < (born.month, born.day))\n",
        "df['Age']= df['Date Of Birth'].apply(lambda x: get_age(x))\n",
        "df.info()"
      ],
      "id": "_21XsiLxvZV3"
    },
    {
      "cell_type": "markdown",
      "metadata": {
        "id": "3uZjufCZ0kR2"
      },
      "source": [
        "Since the values in the Data Of Birth column are object types, we can convert them into dates(datetype64 type). We then use a function to get the age by the formula : **Today's Date - Date of Birth**. Now we can create a new column 'Age' to store all the values. "
      ],
      "id": "3uZjufCZ0kR2"
    },
    {
      "cell_type": "markdown",
      "metadata": {
        "id": "O-dRDF-fFjEW"
      },
      "source": [
        "Similarly we can change other dates in the columns of the data set:"
      ],
      "id": "O-dRDF-fFjEW"
    },
    {
      "cell_type": "code",
      "execution_count": 13,
      "metadata": {
        "id": "_fMqgInAFs_F"
      },
      "outputs": [],
      "source": [
        "df['Intake Date'] = pd.to_datetime(df['Intake Date'])\n",
        "df['Outcome Date'] = pd.to_datetime(df['Outcome Date'])"
      ],
      "id": "_fMqgInAFs_F"
    },
    {
      "cell_type": "code",
      "execution_count": 14,
      "metadata": {
        "colab": {
          "base_uri": "https://localhost:8080/",
          "height": 295
        },
        "id": "V-dSSB_q1k-g",
        "outputId": "921f2ebd-d741-4f99-be25-63f4046cd47a"
      },
      "outputs": [
        {
          "output_type": "display_data",
          "data": {
            "text/plain": [
              "<Figure size 432x288 with 1 Axes>"
            ],
            "image/png": "[encoded data removed]"
          },
          "metadata": {
            "needs_background": "light"
          }
        }
      ],
      "source": [
        "df['Age'].plot.hist()\n",
        "plt.title('Age of animals at the shelter')\n",
        "plt.xlabel('Age')\n",
        "plt.ylabel('Number of Animals');"
      ],
      "id": "V-dSSB_q1k-g"
    },
    {
      "cell_type": "markdown",
      "metadata": {
        "id": "SJaKX1UA3gFy"
      },
      "source": [
        "This plot shows that most of the animals in the shelter are between the ages of 4 to 10. \n",
        "\n",
        "Since the graph is skewed we can say that the majority of the animals at the shelter are young. "
      ],
      "id": "SJaKX1UA3gFy"
    },
    {
      "cell_type": "markdown",
      "metadata": {
        "id": "6vq4ZWwr6lcr"
      },
      "source": [
        "Now lets see how long the animals stay in the shelter?"
      ],
      "id": "6vq4ZWwr6lcr"
    },
    {
      "cell_type": "code",
      "execution_count": 15,
      "metadata": {
        "colab": {
          "base_uri": "https://localhost:8080/",
          "height": 295
        },
        "id": "Fg731U2e6-ai",
        "outputId": "febc3130-a9c5-4e08-e21d-2b56e22a6e7f"
      },
      "outputs": [
        {
          "output_type": "display_data",
          "data": {
            "text/plain": [
              "<Figure size 432x288 with 1 Axes>"
            ],
            "image/png": "[encoded data removed]"
          },
          "metadata": {
            "needs_background": "light"
          }
        }
      ],
      "source": [
        "df['Days in Shelter'].plot.density()\n",
        "plt.title('Number of days animals are at the shelter')\n",
        "plt.xlabel('Number of days');"
      ],
      "id": "Fg731U2e6-ai"
    },
    {
      "cell_type": "markdown",
      "metadata": {
        "id": "GueDk4Wz-DS1"
      },
      "source": [
        "As it can bee seen from the graph the majority of the animals stay in the shelter for the period of 15-20 days.  "
      ],
      "id": "GueDk4Wz-DS1"
    },
    {
      "cell_type": "markdown",
      "metadata": {
        "id": "d1283d9a"
      },
      "source": [
        "## Data cleaning and preprocessing"
      ],
      "id": "d1283d9a"
    },
    {
      "cell_type": "markdown",
      "metadata": {
        "id": "N2LDe00YGF2q"
      },
      "source": [
        "How many NA values does the dataset have?\n"
      ],
      "id": "N2LDe00YGF2q"
    },
    {
      "cell_type": "code",
      "execution_count": 16,
      "metadata": {
        "colab": {
          "base_uri": "https://localhost:8080/"
        },
        "id": "epWtOlg4yhqd",
        "outputId": "6e1c78f6-4d3c-4fcb-caa9-33d9ad1688ad"
      },
      "outputs": [
        {
          "output_type": "execute_result",
          "data": {
            "text/plain": [
              "Name                    5702\n",
              "Type                       0\n",
              "Breed                      0\n",
              "Color                      0\n",
              "Sex                        0\n",
              "Size                      33\n",
              "Date Of Birth           5399\n",
              "Impound Number             0\n",
              "Kennel Number              9\n",
              "Animal ID                  0\n",
              "Intake Date                0\n",
              "Outcome Date             136\n",
              "Days in Shelter            0\n",
              "Intake Type                0\n",
              "Intake Subtype             0\n",
              "Outcome Type             142\n",
              "Outcome Subtype          441\n",
              "Intake Condition           0\n",
              "Outcome Condition        471\n",
              "Intake Jurisdiction        0\n",
              "Outcome Jurisdiction    3105\n",
              "Outcome Zip Code        3184\n",
              "Location                3184\n",
              "Count                      0\n",
              "Age                     5399\n",
              "dtype: int64"
            ]
          },
          "metadata": {},
          "execution_count": 16
        }
      ],
      "source": [
        "df.isna().sum()"
      ],
      "id": "epWtOlg4yhqd"
    },
    {
      "cell_type": "markdown",
      "metadata": {
        "id": "K0RyhjSG_B3Y"
      },
      "source": [
        "We can see that some columns have more NA values than others. \n",
        "\n",
        "This also shows that most of the NA values come from Outcome Jurisdiction, Location, and Zip Code meaning the Animal Shelter does not know the area/location animals go to after release from the shelter."
      ],
      "id": "K0RyhjSG_B3Y"
    },
    {
      "cell_type": "markdown",
      "metadata": {
        "id": "D41SjUxn_OHW"
      },
      "source": [
        "Our next step is to now clean the data set. \n",
        "\n",
        "Below is the percentage of NA values before we start the data cleaning."
      ],
      "id": "D41SjUxn_OHW"
    },
    {
      "cell_type": "code",
      "execution_count": 17,
      "metadata": {
        "colab": {
          "base_uri": "https://localhost:8080/"
        },
        "id": "eErlRLXK_a_j",
        "outputId": "eba188bd-3bf0-429b-c952-536c440ab225"
      },
      "outputs": [
        {
          "output_type": "execute_result",
          "data": {
            "text/plain": [
              "0.04922200108557988"
            ]
          },
          "metadata": {},
          "execution_count": 17
        }
      ],
      "source": [
        "df.isna().mean().mean()"
      ],
      "id": "eErlRLXK_a_j"
    },
    {
      "cell_type": "markdown",
      "metadata": {
        "id": "t_r4oVLr_tQN"
      },
      "source": [
        "It is almost 5% of the total values. "
      ],
      "id": "t_r4oVLr_tQN"
    },
    {
      "cell_type": "markdown",
      "metadata": {
        "id": "ollWOrllcfFW"
      },
      "source": [
        "Since we will be looking at only the data of dogs and cats, we will be dropping the rows of the dataset with other animal types."
      ],
      "id": "ollWOrllcfFW"
    },
    {
      "cell_type": "code",
      "execution_count": 18,
      "metadata": {
        "id": "OirETMZEdA1m"
      },
      "outputs": [],
      "source": [
        "df=df[(df['Type']=='DOG') | (df['Type']=='CAT')]"
      ],
      "id": "OirETMZEdA1m"
    },
    {
      "cell_type": "markdown",
      "metadata": {
        "id": "ISroPTHCAAKt"
      },
      "source": [
        "Removing the colums we won't be using for our project"
      ],
      "id": "ISroPTHCAAKt"
    },
    {
      "cell_type": "code",
      "execution_count": 19,
      "metadata": {
        "id": "02AXWSD2yrUj",
        "colab": {
          "base_uri": "https://localhost:8080/"
        },
        "outputId": "80de1f0a-55af-4649-dd42-c2e136c4a568"
      },
      "outputs": [
        {
          "output_type": "stream",
          "name": "stderr",
          "text": [
            "/usr/local/lib/python3.7/dist-packages/pandas/core/frame.py:4913: SettingWithCopyWarning: \n",
            "A value is trying to be set on a copy of a slice from a DataFrame\n",
            "\n",
            "See the caveats in the documentation: https://pandas.pydata.org/pandas-docs/stable/user_guide/indexing.html#returning-a-view-versus-a-copy\n",
            "  errors=errors,\n"
          ]
        }
      ],
      "source": [
        "df.drop(['Name','Impound Number','Kennel Number','Intake Subtype','Location','Outcome Zip Code', 'Count'],axis=1,inplace=True)"
      ],
      "id": "02AXWSD2yrUj"
    },
    {
      "cell_type": "markdown",
      "metadata": {
        "id": "ye4inUNhaDv2"
      },
      "source": [
        "Treating bad data: Imputing values such as \"UNKNOWN\" and \"PENDING\" to NA values"
      ],
      "id": "ye4inUNhaDv2"
    },
    {
      "cell_type": "code",
      "execution_count": 20,
      "metadata": {
        "id": "_vrlGIdSy74z"
      },
      "outputs": [],
      "source": [
        "df= df.replace([\"UNKNOWN\", \"Unknown\",\"PENDING\"], np.nan)"
      ],
      "id": "_vrlGIdSy74z"
    },
    {
      "cell_type": "markdown",
      "source": [
        "Modifying values: Converting \"Treatable/Rehab\" and \"Treatable/Manageable\" into a general term \"Treateable\" for intake and outcome condition. "
      ],
      "metadata": {
        "id": "yNUa8ypNKKpV"
      },
      "id": "yNUa8ypNKKpV"
    },
    {
      "cell_type": "code",
      "source": [
        "df= df.replace([\"TREATABLE/REHAB\", \"TREATABLE/MANAGEABLE\"], \"TREATABLE\")"
      ],
      "metadata": {
        "id": "OGeQoB4bLZ-2"
      },
      "id": "OGeQoB4bLZ-2",
      "execution_count": 21,
      "outputs": []
    },
    {
      "cell_type": "markdown",
      "metadata": {
        "id": "SjjBETLqPype"
      },
      "source": [
        "Let's look at the NA values in each row. We can drop the rows where most of the values are NA."
      ],
      "id": "SjjBETLqPype"
    },
    {
      "cell_type": "code",
      "execution_count": 22,
      "metadata": {
        "colab": {
          "base_uri": "https://localhost:8080/"
        },
        "id": "cGqpkOSiywHC",
        "outputId": "53c54ed3-30fb-4988-b88a-647db7f849a0"
      },
      "outputs": [
        {
          "output_type": "execute_result",
          "data": {
            "text/plain": [
              "0    11454\n",
              "2     3213\n",
              "1     2722\n",
              "3     1591\n",
              "4     1003\n",
              "5      252\n",
              "6       54\n",
              "8       20\n",
              "7       17\n",
              "dtype: int64"
            ]
          },
          "metadata": {},
          "execution_count": 22
        }
      ],
      "source": [
        "df.isna().sum(axis=1).value_counts()"
      ],
      "id": "cGqpkOSiywHC"
    },
    {
      "cell_type": "markdown",
      "metadata": {
        "id": "k1nIFFMXQsYV"
      },
      "source": [
        "This means that 11486 rows have 1 NA value in them, 3235 rows have 2 NA values and so on...\n",
        "\n",
        "It's best to drop rows with more than 3 NA values"
      ],
      "id": "k1nIFFMXQsYV"
    },
    {
      "cell_type": "code",
      "execution_count": 23,
      "metadata": {
        "id": "NKXZtDLaRomk"
      },
      "outputs": [],
      "source": [
        "df.drop(df[df.isna().sum(axis=1)>3].index, inplace=True)"
      ],
      "id": "NKXZtDLaRomk"
    },
    {
      "cell_type": "markdown",
      "metadata": {
        "id": "tJDTBCEYeWPm"
      },
      "source": [
        "Percentage of NA values after cleaning"
      ],
      "id": "tJDTBCEYeWPm"
    },
    {
      "cell_type": "code",
      "execution_count": 24,
      "metadata": {
        "colab": {
          "base_uri": "https://localhost:8080/"
        },
        "id": "Zg5cAyY_ec-R",
        "outputId": "cf43b2c0-2884-4e50-f1d0-7b32202c89a0"
      },
      "outputs": [
        {
          "output_type": "execute_result",
          "data": {
            "text/plain": [
              "0.04074757054209109"
            ]
          },
          "metadata": {},
          "execution_count": 24
        }
      ],
      "source": [
        "df.isna().mean().mean()"
      ],
      "id": "Zg5cAyY_ec-R"
    },
    {
      "cell_type": "markdown",
      "metadata": {
        "id": "5a3a9d08"
      },
      "source": [
        "## Data exploration and visualization"
      ],
      "id": "5a3a9d08"
    },
    {
      "cell_type": "markdown",
      "metadata": {
        "id": "hPkvJBDR-6d5"
      },
      "source": [
        "Here we start exploring data related to cats and dogs in the shelter.\n",
        "\n",
        "Does the reason for release from the shelter depend on if the animal is a cat or a dog?"
      ],
      "id": "hPkvJBDR-6d5"
    },
    {
      "cell_type": "code",
      "execution_count": 25,
      "metadata": {
        "colab": {
          "base_uri": "https://localhost:8080/",
          "height": 309
        },
        "id": "6bYt8HkA6rJm",
        "outputId": "9cafba8f-e121-4e6f-cb80-c5a3aee8b4dd"
      },
      "outputs": [
        {
          "output_type": "display_data",
          "data": {
            "text/plain": [
              "<Figure size 432x288 with 1 Axes>"
            ],
            "image/png": "[encoded data removed]"
          },
          "metadata": {
            "needs_background": "light"
          }
        }
      ],
      "source": [
        "df_type = df[  (df['Type'] == 'DOG') | (df['Type'] == 'CAT') ]\n",
        "df_adopt = df[  (df['Outcome Type'] == 'ADOPTION') | (df['Outcome Type'] == 'EUTHANIZE') | (df['Outcome Type'] == 'RETURN TO OWNER') | (df['Outcome Type'] == 'TRANSFER')]\n",
        "pd.crosstab(df_type['Type'], df_adopt['Outcome Type'], normalize='index').plot.bar()\n",
        "plt.title('Reason for release: cats vs dogs')\n",
        "plt.xlabel('Type of animal');"
      ],
      "id": "6bYt8HkA6rJm"
    },
    {
      "cell_type": "markdown",
      "source": [
        "For how long do the cats and dogs stay at the shelter before getting adopted or returned to the owner"
      ],
      "metadata": {
        "id": "MmwG8bBe5U0s"
      },
      "id": "MmwG8bBe5U0s"
    },
    {
      "cell_type": "code",
      "source": [
        "df_cat=df[(df['Type']=='CAT') & (df['Outcome Type']=='ADOPTION')]\n",
        "df_dog=df[(df['Type']=='DOG')  & (df['Outcome Type']=='RETURN TO OWNER')] \n",
        "sns.kdeplot(data=df_cat, x=\"Days in Shelter\")\n",
        "sns.kdeplot(data=df_dog,x=\"Days in Shelter\")\n",
        "plt.xlim(-1, 300)\n",
        "plt.xlabel(\"Days in shelter\");\n"
      ],
      "metadata": {
        "colab": {
          "base_uri": "https://localhost:8080/",
          "height": 282
        },
        "id": "QUvppnGG2SAU",
        "outputId": "0aeb465d-31ee-41a2-b8a5-f0fdb72897cb"
      },
      "id": "QUvppnGG2SAU",
      "execution_count": 26,
      "outputs": [
        {
          "output_type": "display_data",
          "data": {
            "text/plain": [
              "<Figure size 432x288 with 1 Axes>"
            ],
            "image/png": "[encoded data removed]"
          },
          "metadata": {
            "needs_background": "light"
          }
        }
      ]
    },
    {
      "cell_type": "markdown",
      "source": [
        "Clearly, dogs stay at the shelter for a shorter time before getting returned to the owner, while cats stay at the shelter for a slightly longer time and then ultimately get adopted. The number of days for the cats could be greater because most of the cats are domestic whereas dogs are of breeds people usually have as pets. Hence, it could be poosible people leave their dogs at the shelter to get them treated and then take them back."
      ],
      "metadata": {
        "id": "F86DLj0I6A0I"
      },
      "id": "F86DLj0I6A0I"
    },
    {
      "cell_type": "markdown",
      "source": [
        "From the plot we can see that cats are adopted more than dogs. While dogs are mostly returned back to their owners unlike cats. \n",
        "\n",
        "\n",
        "What is the amount of dogs available for adoption compared to cats available for adoption in the shelter?\n",
        "\n"
      ],
      "metadata": {
        "id": "J1BBjZv9I0Mm"
      },
      "id": "J1BBjZv9I0Mm"
    },
    {
      "cell_type": "markdown",
      "metadata": {
        "id": "ad-CuhxEg12E"
      },
      "source": [
        "Is there any relation between the condition of the animals during their intake/outcome and the reason they enter/are released from the shelter?"
      ],
      "id": "ad-CuhxEg12E"
    },
    {
      "cell_type": "code",
      "execution_count": 27,
      "metadata": {
        "id": "cDZznncil5y4",
        "colab": {
          "base_uri": "https://localhost:8080/",
          "height": 355
        },
        "outputId": "72e72ce2-afa4-451a-a30b-5a51da2eca46"
      },
      "outputs": [
        {
          "output_type": "display_data",
          "data": {
            "text/plain": [
              "<Figure size 432x288 with 2 Axes>"
            ],
            "image/png": "[encoded data removed]"
          },
          "metadata": {
            "needs_background": "light"
          }
        }
      ],
      "source": [
        "def cramers_v(x, y):\n",
        "  confusion_matrix = pd.crosstab(x,y)\n",
        "  chi2 = chi2_contingency(confusion_matrix)[0]\n",
        "  n = confusion_matrix.sum().sum()\n",
        "  phi2 = chi2/n\n",
        "  r,k = confusion_matrix.shape\n",
        "  phi2corr = max(0, phi2-((k-1)*(r-1))/(n-1))\n",
        "  rcorr = r-((r-1)**2)/(n-1)\n",
        "  kcorr = k-((k-1)**2)/(n-1)\n",
        "  return np.sqrt(phi2corr/min((kcorr-1),(rcorr-1)))\n",
        "\n",
        "xs = np.array(['Outcome Condition', 'Intake Condition', 'Outcome Type', 'Intake Type'])\n",
        "n = len(xs)\n",
        "\n",
        "cor_mtx = np.zeros([n, n])\n",
        "for i in range(n):\n",
        "  for j in range(n):\n",
        "    cor_mtx[i,j] = cramers_v(df[xs[i]], df[xs[j]])\n",
        "\n",
        "sns.heatmap(cor_mtx, cmap='inferno_r', vmin=0, vmax=1, xticklabels=xs, yticklabels=xs); "
      ],
      "id": "cDZznncil5y4"
    },
    {
      "cell_type": "markdown",
      "source": [
        "We can see that there is a very high corelation between the intake condition and outcome condition: What does it say about the overall health of animals at the shelter? Does it improve? Does it say anythoing about the quality of the shelter?\n"
      ],
      "metadata": {
        "id": "8zgoV3AFKpqU"
      },
      "id": "8zgoV3AFKpqU"
    },
    {
      "cell_type": "markdown",
      "source": [
        "How many treatable animals were infact treated at their days at the shelter?"
      ],
      "metadata": {
        "id": "42aq6JWoNxtJ"
      },
      "id": "42aq6JWoNxtJ"
    },
    {
      "cell_type": "code",
      "source": [
        "df_int = df[(df['Intake Condition'] == 'TREATABLE') |(df['Intake Condition'] == 'UNREATABLE')]\n",
        "df_out = df[  (df['Outcome Condition'] == 'HEALTHY') | (df['Outcome Type'] == 'TREATABLE') | (df['Outcome Type'] == 'UNTREATABLE') | (df['Outcome Type'] == 'DEAD')]\n",
        "pd.crosstab(df_type['Intake Condition'], df_adopt['Outcome Condition'], normalize='index').plot.bar()\n",
        "plt.title('Reason for release: cats vs dogs')\n",
        "plt.xlabel('Type of animal');"
      ],
      "metadata": {
        "colab": {
          "base_uri": "https://localhost:8080/",
          "height": 356
        },
        "id": "3TAJERXJQbKL",
        "outputId": "ad4c1a1c-3c6b-4ddb-c6ee-a874b64d7ea7"
      },
      "id": "3TAJERXJQbKL",
      "execution_count": 28,
      "outputs": [
        {
          "output_type": "display_data",
          "data": {
            "text/plain": [
              "<Figure size 432x288 with 1 Axes>"
            ],
            "image/png": "[encoded data removed]"
          },
          "metadata": {
            "needs_background": "light"
          }
        }
      ]
    },
    {
      "cell_type": "markdown",
      "source": [
        "It can be seen that a fairly large portion of animals that had treatable conditions during their intake made it out of the shelter healthy! Most of the animals that came in the shelter healthy had good health during their days at the shelter and at their release. Also, very few untreatable animals died. \n",
        "\n",
        "This explains us a lot about the quality of the shelter. It means that the shelter took good care of the animals and treated their health as a priority. "
      ],
      "metadata": {
        "id": "gMclKsC0hIm8"
      },
      "id": "gMclKsC0hIm8"
    },
    {
      "cell_type": "markdown",
      "source": [
        "Do animals return back to the shelter? Why?\n",
        "> How many times does an animal return back to the shelter can be known by their Animal ID number. Let's find out the top 10 animals that returned to the shelter the most. \n"
      ],
      "metadata": {
        "id": "7u2vpdCUNDng"
      },
      "id": "7u2vpdCUNDng"
    },
    {
      "cell_type": "code",
      "source": [
        "(df['Animal ID'].value_counts()).value_counts().sort_values().plot.barh()\n",
        "plt.title('Number of times animals return back to shelter')\n",
        "plt.xlabel('Number of animals')\n",
        "plt.ylabel('Number of times animals returned');"
      ],
      "metadata": {
        "colab": {
          "base_uri": "https://localhost:8080/",
          "height": 295
        },
        "id": "iJNumo_cNgF7",
        "outputId": "44792cfe-cca4-42e9-b6fb-f2b60783b4fc"
      },
      "id": "iJNumo_cNgF7",
      "execution_count": 29,
      "outputs": [
        {
          "output_type": "display_data",
          "data": {
            "text/plain": [
              "<Figure size 432x288 with 1 Axes>"
            ],
            "image/png": "[encoded data removed]"
          },
          "metadata": {
            "needs_background": "light"
          }
        }
      ]
    },
    {
      "cell_type": "markdown",
      "source": [
        "A lot of animals returned back atleast once. It can be also seen from the graph that a very small amount of animals came back more than 5 times. Let's look more into it..."
      ],
      "metadata": {
        "id": "RPlaNOaJhfEx"
      },
      "id": "RPlaNOaJhfEx"
    },
    {
      "cell_type": "code",
      "source": [
        "(df['Animal ID'].value_counts()).value_counts().sort_values()[:6]"
      ],
      "metadata": {
        "colab": {
          "base_uri": "https://localhost:8080/"
        },
        "id": "DzIEmWNahj2f",
        "outputId": "630cda3c-58e3-41f1-cd3e-3f2b7b73573e"
      },
      "id": "DzIEmWNahj2f",
      "execution_count": 30,
      "outputs": [
        {
          "output_type": "execute_result",
          "data": {
            "text/plain": [
              "19     1\n",
              "10     1\n",
              "11     2\n",
              "8      4\n",
              "6     13\n",
              "5     30\n",
              "Name: Animal ID, dtype: int64"
            ]
          },
          "metadata": {},
          "execution_count": 30
        }
      ]
    },
    {
      "cell_type": "markdown",
      "source": [
        "One particular animal was returned back to the shelter 19 times! Why?"
      ],
      "metadata": {
        "id": "lAxodaP5N7gH"
      },
      "id": "lAxodaP5N7gH"
    },
    {
      "cell_type": "code",
      "source": [
        "df[(df['Animal ID']=='A322298')][:1]"
      ],
      "metadata": {
        "colab": {
          "base_uri": "https://localhost:8080/",
          "height": 214
        },
        "id": "5JwmoV7fOOHq",
        "outputId": "b1372f6a-6d21-4504-f19c-ec8a4483b53e"
      },
      "id": "5JwmoV7fOOHq",
      "execution_count": 31,
      "outputs": [
        {
          "output_type": "execute_result",
          "data": {
            "text/plain": [
              "     Type               Breed        Color     Sex   Size Date Of Birth  \\\n",
              "3768  DOG  FRENCH BULLDOG/MIX  BROWN/WHITE  Spayed  SMALL    2013-05-21   \n",
              "\n",
              "     Animal ID Intake Date Outcome Date  Days in Shelter Intake Type  \\\n",
              "3768   A322298  2019-12-07   2019-12-10                3  CONFISCATE   \n",
              "\n",
              "         Outcome Type        Outcome Subtype Intake Condition  \\\n",
              "3768  RETURN TO OWNER  OVER THE COUNTER_PRVS              NaN   \n",
              "\n",
              "     Outcome Condition Intake Jurisdiction Outcome Jurisdiction  Age  \n",
              "3768               NaN          SANTA ROSA           SANTA ROSA  8.0  "
            ],
            "text/html": [
              "\n",
              "  <div id=\"df-dfd53413-dd54-430a-acb2-de37bc82b8ff\">\n",
              "    <div class=\"colab-df-container\">\n",
              "      <div>\n",
              "<style scoped>\n",
              "    .dataframe tbody tr th:only-of-type {\n",
              "        vertical-align: middle;\n",
              "    }\n",
              "\n",
              "    .dataframe tbody tr th {\n",
              "        vertical-align: top;\n",
              "    }\n",
              "\n",
              "    .dataframe thead th {\n",
              "        text-align: right;\n",
              "    }\n",
              "</style>\n",
              "<table border=\"1\" class=\"dataframe\">\n",
              "  <thead>\n",
              "    <tr style=\"text-align: right;\">\n",
              "      <th></th>\n",
              "      <th>Type</th>\n",
              "      <th>Breed</th>\n",
              "      <th>Color</th>\n",
              "      <th>Sex</th>\n",
              "      <th>Size</th>\n",
              "      <th>Date Of Birth</th>\n",
              "      <th>Animal ID</th>\n",
              "      <th>Intake Date</th>\n",
              "      <th>Outcome Date</th>\n",
              "      <th>Days in Shelter</th>\n",
              "      <th>Intake Type</th>\n",
              "      <th>Outcome Type</th>\n",
              "      <th>Outcome Subtype</th>\n",
              "      <th>Intake Condition</th>\n",
              "      <th>Outcome Condition</th>\n",
              "      <th>Intake Jurisdiction</th>\n",
              "      <th>Outcome Jurisdiction</th>\n",
              "      <th>Age</th>\n",
              "    </tr>\n",
              "  </thead>\n",
              "  <tbody>\n",
              "    <tr>\n",
              "      <th>3768</th>\n",
              "      <td>DOG</td>\n",
              "      <td>FRENCH BULLDOG/MIX</td>\n",
              "      <td>BROWN/WHITE</td>\n",
              "      <td>Spayed</td>\n",
              "      <td>SMALL</td>\n",
              "      <td>2013-05-21</td>\n",
              "      <td>A322298</td>\n",
              "      <td>2019-12-07</td>\n",
              "      <td>2019-12-10</td>\n",
              "      <td>3</td>\n",
              "      <td>CONFISCATE</td>\n",
              "      <td>RETURN TO OWNER</td>\n",
              "      <td>OVER THE COUNTER_PRVS</td>\n",
              "      <td>NaN</td>\n",
              "      <td>NaN</td>\n",
              "      <td>SANTA ROSA</td>\n",
              "      <td>SANTA ROSA</td>\n",
              "      <td>8.0</td>\n",
              "    </tr>\n",
              "  </tbody>\n",
              "</table>\n",
              "</div>\n",
              "      <button class=\"colab-df-convert\" onclick=\"convertToInteractive('df-dfd53413-dd54-430a-acb2-de37bc82b8ff')\"\n",
              "              title=\"Convert this dataframe to an interactive table.\"\n",
              "              style=\"display:none;\">\n",
              "        \n",
              "  <svg xmlns=\"http://www.w3.org/2000/svg\" height=\"24px\"viewBox=\"0 0 24 24\"\n",
              "       width=\"24px\">\n",
              "    <path d=\"M0 0h24v24H0V0z\" fill=\"none\"/>\n",
              "    <path d=\"M18.56 5.44l.94 2.06.94-2.06 2.06-.94-2.06-.94-.94-2.06-.94 2.06-2.06.94zm-11 1L8.5 8.5l.94-2.06 2.06-.94-2.06-.94L8.5 2.5l-.94 2.06-2.06.94zm10 10l.94 2.06.94-2.06 2.06-.94-2.06-.94-.94-2.06-.94 2.06-2.06.94z\"/><path d=\"M17.41 7.96l-1.37-1.37c-.4-.4-.92-.59-1.43-.59-.52 0-1.04.2-1.43.59L10.3 9.45l-7.72 7.72c-.78.78-.78 2.05 0 2.83L4 21.41c.39.39.9.59 1.41.59.51 0 1.02-.2 1.41-.59l7.78-7.78 2.81-2.81c.8-.78.8-2.07 0-2.86zM5.41 20L4 18.59l7.72-7.72 1.47 1.35L5.41 20z\"/>\n",
              "  </svg>\n",
              "      </button>\n",
              "      \n",
              "  <style>\n",
              "    .colab-df-container {\n",
              "      display:flex;\n",
              "      flex-wrap:wrap;\n",
              "      gap: 12px;\n",
              "    }\n",
              "\n",
              "    .colab-df-convert {\n",
              "      background-color: #E8F0FE;\n",
              "      border: none;\n",
              "      border-radius: 50%;\n",
              "      cursor: pointer;\n",
              "      display: none;\n",
              "      fill: #1967D2;\n",
              "      height: 32px;\n",
              "      padding: 0 0 0 0;\n",
              "      width: 32px;\n",
              "    }\n",
              "\n",
              "    .colab-df-convert:hover {\n",
              "      background-color: #E2EBFA;\n",
              "      box-shadow: 0px 1px 2px rgba(60, 64, 67, 0.3), 0px 1px 3px 1px rgba(60, 64, 67, 0.15);\n",
              "      fill: #174EA6;\n",
              "    }\n",
              "\n",
              "    [theme=dark] .colab-df-convert {\n",
              "      background-color: #3B4455;\n",
              "      fill: #D2E3FC;\n",
              "    }\n",
              "\n",
              "    [theme=dark] .colab-df-convert:hover {\n",
              "      background-color: #434B5C;\n",
              "      box-shadow: 0px 1px 3px 1px rgba(0, 0, 0, 0.15);\n",
              "      filter: drop-shadow(0px 1px 2px rgba(0, 0, 0, 0.3));\n",
              "      fill: #FFFFFF;\n",
              "    }\n",
              "  </style>\n",
              "\n",
              "      <script>\n",
              "        const buttonEl =\n",
              "          document.querySelector('#df-dfd53413-dd54-430a-acb2-de37bc82b8ff button.colab-df-convert');\n",
              "        buttonEl.style.display =\n",
              "          google.colab.kernel.accessAllowed ? 'block' : 'none';\n",
              "\n",
              "        async function convertToInteractive(key) {\n",
              "          const element = document.querySelector('#df-dfd53413-dd54-430a-acb2-de37bc82b8ff');\n",
              "          const dataTable =\n",
              "            await google.colab.kernel.invokeFunction('convertToInteractive',\n",
              "                                                     [key], {});\n",
              "          if (!dataTable) return;\n",
              "\n",
              "          const docLinkHtml = 'Like what you see? Visit the ' +\n",
              "            '<a target=\"_blank\" href=https://colab.research.google.com/notebooks/data_table.ipynb>data table notebook</a>'\n",
              "            + ' to learn more about interactive tables.';\n",
              "          element.innerHTML = '';\n",
              "          dataTable['output_type'] = 'display_data';\n",
              "          await google.colab.output.renderOutput(dataTable, element);\n",
              "          const docLink = document.createElement('div');\n",
              "          docLink.innerHTML = docLinkHtml;\n",
              "          element.appendChild(docLink);\n",
              "        }\n",
              "      </script>\n",
              "    </div>\n",
              "  </div>\n",
              "  "
            ]
          },
          "metadata": {},
          "execution_count": 31
        }
      ]
    },
    {
      "cell_type": "markdown",
      "source": [
        "From the data set it can be seen that Layla the dog has returned back to the shelter 19 times within the span of 2 years. Every time Layla was brought into the shelter the Intake Type was because she was confiscated. \n",
        "\n",
        "Confiscations are usually carried out when someone is severly abusing or neglecting an animal(s). The intake subtype says \"fld_hospital\" and \"fld_arrest\" - it could be because the dog was treated poorly and had to be taken care of multiple times by the shelter."
      ],
      "metadata": {
        "id": "BMAj7ZzsQRDF"
      },
      "id": "BMAj7ZzsQRDF"
    },
    {
      "cell_type": "markdown",
      "source": [
        "Now we move onto some data related to COVID-19 and the animal shelter.\n",
        "\n",
        "\n",
        "Were any animals in the shelter isolated during the COVID outbreak?\n",
        "\n",
        "> Did people keep their pets in the shelter during the covid year - 2020? For how many days?\n"
      ],
      "metadata": {
        "id": "PRzn1P1xSfgn"
      },
      "id": "PRzn1P1xSfgn"
    },
    {
      "cell_type": "code",
      "source": [
        "sns.countplot(y='Intake Type', data=df)\n",
        "plt.title('Reason for Intake');"
      ],
      "metadata": {
        "colab": {
          "base_uri": "https://localhost:8080/",
          "height": 295
        },
        "id": "iSqum2KfVji5",
        "outputId": "5322c91c-006a-4721-a3de-b6f46d5643cc"
      },
      "id": "iSqum2KfVji5",
      "execution_count": 32,
      "outputs": [
        {
          "output_type": "display_data",
          "data": {
            "text/plain": [
              "<Figure size 432x288 with 1 Axes>"
            ],
            "image/png": "[encoded data removed]"
          },
          "metadata": {
            "needs_background": "light"
          }
        }
      ]
    },
    {
      "cell_type": "markdown",
      "source": [
        "We can see that a small percentage of animals were \"quarantined\". Is it because of Covid? Let's find out what year the animals were quarantined the most. "
      ],
      "metadata": {
        "id": "OACx_5nuWrsC"
      },
      "id": "OACx_5nuWrsC"
    },
    {
      "cell_type": "code",
      "source": [
        "df['intake year'] = df['Intake Date'].dt.year\n",
        "df_quar= df[(df['Intake Type']=='QUARANTINE')]\n",
        "sns.histplot(df_quar['intake year']); "
      ],
      "metadata": {
        "colab": {
          "base_uri": "https://localhost:8080/",
          "height": 279
        },
        "id": "7TyBD55gW5-m",
        "outputId": "3d0541bc-f176-40fa-ebda-429c760949b8"
      },
      "id": "7TyBD55gW5-m",
      "execution_count": 33,
      "outputs": [
        {
          "output_type": "display_data",
          "data": {
            "text/plain": [
              "<Figure size 432x288 with 1 Axes>"
            ],
            "image/png": "[encoded data removed]"
          },
          "metadata": {
            "needs_background": "light"
          }
        }
      ]
    },
    {
      "cell_type": "markdown",
      "source": [
        "The number of animals that were \"quarantined\" is almost steady for all the years. The animals could have been quarantined due to different reasons that is not related to covid. "
      ],
      "metadata": {
        "id": "QbIfndXvZKFq"
      },
      "id": "QbIfndXvZKFq"
    },
    {
      "cell_type": "markdown",
      "source": [
        "For what duration were these animals quarantined in the year 2020?"
      ],
      "metadata": {
        "id": "6FeczxDU91Kz"
      },
      "id": "6FeczxDU91Kz"
    },
    {
      "cell_type": "code",
      "source": [
        "df_quar=df[(df['Intake Type']=='QUARANTINE') & (df['intake year']==2020)]\n",
        "df_quar['Days in Shelter'].plot.hist(bins=list(range(0,100,10)))\n",
        "plt.title('Quarantined time for animals in 2020')\n",
        "plt.xlabel('Number of days');                            "
      ],
      "metadata": {
        "colab": {
          "base_uri": "https://localhost:8080/",
          "height": 295
        },
        "id": "hyfZSizaZ8vX",
        "outputId": "2f6e5179-afb3-4e06-8d55-7fc453c8e566"
      },
      "id": "hyfZSizaZ8vX",
      "execution_count": 34,
      "outputs": [
        {
          "output_type": "display_data",
          "data": {
            "text/plain": [
              "<Figure size 432x288 with 1 Axes>"
            ],
            "image/png": "[encoded data removed]"
          },
          "metadata": {
            "needs_background": "light"
          }
        }
      ]
    },
    {
      "cell_type": "markdown",
      "source": [
        "Majority of animals were quarantined for 10-20 days in the shelter. The time period is similar to the general covid isolation period. It could be posible these animals were quarantined for precautionary measures because there was a covid outbreak among the people working at the shelter. "
      ],
      "metadata": {
        "id": "VNThhiUlc4eR"
      },
      "id": "VNThhiUlc4eR"
    },
    {
      "cell_type": "markdown",
      "source": [
        "Did the COVID outbreak affect the number of animals that stayed at the shelter?"
      ],
      "metadata": {
        "id": "sQSCaa1_jfY9"
      },
      "id": "sQSCaa1_jfY9"
    },
    {
      "cell_type": "code",
      "source": [
        "sns.countplot(x='intake year', data=df)\n",
        "plt.title(\"Number of animal intakes every year\")\n",
        "plt.xlabel(\"Intake Year\")\n",
        "plt.ylabel(\"Number of Animals\");"
      ],
      "metadata": {
        "colab": {
          "base_uri": "https://localhost:8080/",
          "height": 295
        },
        "id": "oeaiiL1yjkav",
        "outputId": "045e56c6-5080-400f-f37f-2da7c74d5db7"
      },
      "id": "oeaiiL1yjkav",
      "execution_count": 35,
      "outputs": [
        {
          "output_type": "display_data",
          "data": {
            "text/plain": [
              "<Figure size 432x288 with 1 Axes>"
            ],
            "image/png": "[encoded data removed]"
          },
          "metadata": {
            "needs_background": "light"
          }
        }
      ]
    },
    {
      "cell_type": "markdown",
      "source": [
        "Apart from 2013 (the year the animal shelter started), 2020 and 2021 were the years the shelter saw the least number of animal intakes. The covid outbreak and the lockdown definetiely affected the owner surrenders, transfers from other shelters, adoption returns etc."
      ],
      "metadata": {
        "id": "Ua74xTB1kcD8"
      },
      "id": "Ua74xTB1kcD8"
    },
    {
      "cell_type": "markdown",
      "source": [
        "Why do some shelters put down their animals?\n",
        "> Shelters euthanize the animals when they are considered unadoptable, due to agressive tendencies, animals that are too old, have incurable illnesses or animals who remain at the shelter for too long."
      ],
      "metadata": {
        "id": "JFpYXqrx-yMy"
      },
      "id": "JFpYXqrx-yMy"
    },
    {
      "cell_type": "markdown",
      "source": [
        "What percent of animals were euthanized due to their agressive tendencies?"
      ],
      "metadata": {
        "id": "M87J5OIB-4d4"
      },
      "id": "M87J5OIB-4d4"
    },
    {
      "cell_type": "code",
      "source": [
        "df_agg=df[df[\"Outcome Subtype\"]==\"AGGRESSIVE\"]\n",
        "df_agg[\"Outcome Type\"].value_counts()"
      ],
      "metadata": {
        "colab": {
          "base_uri": "https://localhost:8080/"
        },
        "id": "VYnTQb_8_G-E",
        "outputId": "9f85f03c-5e04-4748-af58-ae502d787dab"
      },
      "id": "VYnTQb_8_G-E",
      "execution_count": 36,
      "outputs": [
        {
          "output_type": "execute_result",
          "data": {
            "text/plain": [
              "EUTHANIZE    913\n",
              "Name: Outcome Type, dtype: int64"
            ]
          },
          "metadata": {},
          "execution_count": 36
        }
      ]
    },
    {
      "cell_type": "markdown",
      "source": [
        "It can be seen that all 100% of the animals that are aggressive are Euthanized. Does the shelter only euthanize animals based on their behavior? What about the type? "
      ],
      "metadata": {
        "id": "jZCLL0mO_1Fo"
      },
      "id": "jZCLL0mO_1Fo"
    },
    {
      "cell_type": "code",
      "source": [
        "df_eut= df[df[\"Outcome Type\"]==\"EUTHANIZE\"]\n",
        "sns.countplot(data=df, x=\"Type\")\n",
        "plt.xlabel(\"Type of animal\")\n",
        "plt.ylabel(\"Number of Animals\");"
      ],
      "metadata": {
        "colab": {
          "base_uri": "https://localhost:8080/",
          "height": 279
        },
        "id": "OZ_YPtSPAgkb",
        "outputId": "50e50b83-ed49-4689-e408-9b595d43fac7"
      },
      "id": "OZ_YPtSPAgkb",
      "execution_count": 37,
      "outputs": [
        {
          "output_type": "display_data",
          "data": {
            "text/plain": [
              "<Figure size 432x288 with 1 Axes>"
            ],
            "image/png": "[encoded data removed]"
          },
          "metadata": {
            "needs_background": "light"
          }
        }
      ]
    },
    {
      "cell_type": "markdown",
      "source": [
        "Clearly, more dogs are euthanized than cats - could be because most the dogs initially belonged to some owner and hence had got the \"humanely death\" under observation while most of the cats were domestic."
      ],
      "metadata": {
        "id": "4l1lwn_mBEzf"
      },
      "id": "4l1lwn_mBEzf"
    },
    {
      "cell_type": "markdown",
      "source": [
        "Are older animals have a higher chances of getting euthanized?"
      ],
      "metadata": {
        "id": "B-i3oFwICLhr"
      },
      "id": "B-i3oFwICLhr"
    },
    {
      "cell_type": "code",
      "source": [
        "sns.histplot(data=df, x=\"Age\")\n",
        "plt.xlabel(\"Age of animal\")\n",
        "plt.ylabel(\"Number of Animals\");"
      ],
      "metadata": {
        "colab": {
          "base_uri": "https://localhost:8080/",
          "height": 279
        },
        "id": "PrB5SCAACTEh",
        "outputId": "913d6c43-7909-41e7-b22f-3b342a5117f6"
      },
      "id": "PrB5SCAACTEh",
      "execution_count": 38,
      "outputs": [
        {
          "output_type": "display_data",
          "data": {
            "text/plain": [
              "<Figure size 432x288 with 1 Axes>"
            ],
            "image/png": "[encoded data removed]"
          },
          "metadata": {
            "needs_background": "light"
          }
        }
      ]
    },
    {
      "cell_type": "markdown",
      "source": [
        "Animals in the age range of 5-10 are euthanized the most. The average life span of dogs and cats is around 10-12 years. They do get euthanized at a fairly young age. "
      ],
      "metadata": {
        "id": "iOm3IZQRCpl9"
      },
      "id": "iOm3IZQRCpl9"
    },
    {
      "cell_type": "markdown",
      "source": [
        "Next, lets look at the times at which the shelter is at its buisiest, and when it is relatively quiet. "
      ],
      "metadata": {
        "id": "DyoQtvO9adwI"
      },
      "id": "DyoQtvO9adwI"
    },
    {
      "cell_type": "markdown",
      "metadata": {
        "id": "znS9us3uqmEm"
      },
      "source": [
        "When is the animal shelter the buisest? \n",
        ">Which year was the buisiest? What days of the week? "
      ],
      "id": "znS9us3uqmEm"
    },
    {
      "cell_type": "code",
      "source": [
        "df_busy=df['Intake Date']"
      ],
      "metadata": {
        "id": "mhan91ATZgaW"
      },
      "id": "mhan91ATZgaW",
      "execution_count": 39,
      "outputs": []
    },
    {
      "cell_type": "code",
      "source": [
        "df_busy.value_counts()[:20].plot.bar();\n",
        "plt.ylabel('Count')\n",
        "plt.title('Buisiest Shelter Dates.');"
      ],
      "metadata": {
        "colab": {
          "base_uri": "https://localhost:8080/",
          "height": 376
        },
        "id": "33Dv26WXcg-M",
        "outputId": "66df2c23-77f7-4a84-c567-79a458acac5c"
      },
      "id": "33Dv26WXcg-M",
      "execution_count": 40,
      "outputs": [
        {
          "output_type": "display_data",
          "data": {
            "text/plain": [
              "<Figure size 432x288 with 1 Axes>"
            ],
            "image/png": "[encoded data removed]"
          },
          "metadata": {
            "needs_background": "light"
          }
        }
      ]
    },
    {
      "cell_type": "markdown",
      "source": [
        "We can see that by Intake date, all of the 20 busiest dates are all within the range of 05-11 (May to November) so we can assume that the shelter is at its busiest from the time of summer to late fall/early winter. "
      ],
      "metadata": {
        "id": "a4RjpKQweTgV"
      },
      "id": "a4RjpKQweTgV"
    },
    {
      "cell_type": "markdown",
      "source": [
        "Lets see if there was any significant reason that 08/29/2015 had some many animals go into the shelter. Could it be that these are the dates that the shelter recieved the most transfers from other shelters?"
      ],
      "metadata": {
        "id": "Qf2PvUMkE9kZ"
      },
      "id": "Qf2PvUMkE9kZ"
    },
    {
      "cell_type": "code",
      "source": [
        "Aug29 = df[df['Intake Date'] == '2015-08-29 00:00:00']\n",
        "Aug29.head(5)"
      ],
      "metadata": {
        "colab": {
          "base_uri": "https://localhost:8080/",
          "height": 461
        },
        "id": "f8FriGW_FBuf",
        "outputId": "111275c2-df3c-4321-dd0c-c9ad9ef34a7a"
      },
      "id": "f8FriGW_FBuf",
      "execution_count": 41,
      "outputs": [
        {
          "output_type": "execute_result",
          "data": {
            "text/plain": [
              "     Type            Breed   Color       Sex   Size Date Of Birth Animal ID  \\\n",
              "1866  DOG  COCKER SPAN/MIX    GOLD      Male    MED    2007-08-17   A285729   \n",
              "2715  DOG     CHIHUAHUA SH   WHITE  Neutered    TOY    2012-03-01   A326432   \n",
              "3250  CAT      DOMESTIC SH  TORTIE    Spayed  KITTN    2015-05-11   A326430   \n",
              "3546  DOG     CHIHUAHUA SH   BROWN    Spayed    TOY    2005-09-01   A326435   \n",
              "4796  CAT      DOMESTIC SH    BUFF  Neutered  SMALL    2007-09-01   A326443   \n",
              "\n",
              "     Intake Date Outcome Date  Days in Shelter      Intake Type  \\\n",
              "1866  2015-08-29   2015-09-01                3            STRAY   \n",
              "2715  2015-08-29   2015-09-03                5       CONFISCATE   \n",
              "3250  2015-08-29   2015-09-12               14  OWNER SURRENDER   \n",
              "3546  2015-08-29   2015-09-03                5       CONFISCATE   \n",
              "4796  2015-08-29   2015-09-03                5       CONFISCATE   \n",
              "\n",
              "         Outcome Type          Outcome Subtype Intake Condition  \\\n",
              "1866  RETURN TO OWNER     OVER THE COUNTER_WEB          HEALTHY   \n",
              "2715  RETURN TO OWNER    OVER THE COUNTER_PRVS          HEALTHY   \n",
              "3250         ADOPTION                 INTERNET          HEALTHY   \n",
              "3546  RETURN TO OWNER  OVER THE COUNTER_NOTICE        TREATABLE   \n",
              "4796  RETURN TO OWNER    OVER THE COUNTER_PRVS          HEALTHY   \n",
              "\n",
              "     Outcome Condition Intake Jurisdiction Outcome Jurisdiction   Age  \\\n",
              "1866           HEALTHY              COUNTY               COUNTY  14.0   \n",
              "2715           HEALTHY              COUNTY               COUNTY  10.0   \n",
              "3250           HEALTHY              COUNTY               COUNTY   6.0   \n",
              "3546         TREATABLE              COUNTY               COUNTY  16.0   \n",
              "4796           HEALTHY              COUNTY               COUNTY  14.0   \n",
              "\n",
              "      intake year  \n",
              "1866         2015  \n",
              "2715         2015  \n",
              "3250         2015  \n",
              "3546         2015  \n",
              "4796         2015  "
            ],
            "text/html": [
              "\n",
              "  <div id=\"df-88488a50-8e2c-47a0-9e60-3313f48d5fee\">\n",
              "    <div class=\"colab-df-container\">\n",
              "      <div>\n",
              "<style scoped>\n",
              "    .dataframe tbody tr th:only-of-type {\n",
              "        vertical-align: middle;\n",
              "    }\n",
              "\n",
              "    .dataframe tbody tr th {\n",
              "        vertical-align: top;\n",
              "    }\n",
              "\n",
              "    .dataframe thead th {\n",
              "        text-align: right;\n",
              "    }\n",
              "</style>\n",
              "<table border=\"1\" class=\"dataframe\">\n",
              "  <thead>\n",
              "    <tr style=\"text-align: right;\">\n",
              "      <th></th>\n",
              "      <th>Type</th>\n",
              "      <th>Breed</th>\n",
              "      <th>Color</th>\n",
              "      <th>Sex</th>\n",
              "      <th>Size</th>\n",
              "      <th>Date Of Birth</th>\n",
              "      <th>Animal ID</th>\n",
              "      <th>Intake Date</th>\n",
              "      <th>Outcome Date</th>\n",
              "      <th>Days in Shelter</th>\n",
              "      <th>Intake Type</th>\n",
              "      <th>Outcome Type</th>\n",
              "      <th>Outcome Subtype</th>\n",
              "      <th>Intake Condition</th>\n",
              "      <th>Outcome Condition</th>\n",
              "      <th>Intake Jurisdiction</th>\n",
              "      <th>Outcome Jurisdiction</th>\n",
              "      <th>Age</th>\n",
              "      <th>intake year</th>\n",
              "    </tr>\n",
              "  </thead>\n",
              "  <tbody>\n",
              "    <tr>\n",
              "      <th>1866</th>\n",
              "      <td>DOG</td>\n",
              "      <td>COCKER SPAN/MIX</td>\n",
              "      <td>GOLD</td>\n",
              "      <td>Male</td>\n",
              "      <td>MED</td>\n",
              "      <td>2007-08-17</td>\n",
              "      <td>A285729</td>\n",
              "      <td>2015-08-29</td>\n",
              "      <td>2015-09-01</td>\n",
              "      <td>3</td>\n",
              "      <td>STRAY</td>\n",
              "      <td>RETURN TO OWNER</td>\n",
              "      <td>OVER THE COUNTER_WEB</td>\n",
              "      <td>HEALTHY</td>\n",
              "      <td>HEALTHY</td>\n",
              "      <td>COUNTY</td>\n",
              "      <td>COUNTY</td>\n",
              "      <td>14.0</td>\n",
              "      <td>2015</td>\n",
              "    </tr>\n",
              "    <tr>\n",
              "      <th>2715</th>\n",
              "      <td>DOG</td>\n",
              "      <td>CHIHUAHUA SH</td>\n",
              "      <td>WHITE</td>\n",
              "      <td>Neutered</td>\n",
              "      <td>TOY</td>\n",
              "      <td>2012-03-01</td>\n",
              "      <td>A326432</td>\n",
              "      <td>2015-08-29</td>\n",
              "      <td>2015-09-03</td>\n",
              "      <td>5</td>\n",
              "      <td>CONFISCATE</td>\n",
              "      <td>RETURN TO OWNER</td>\n",
              "      <td>OVER THE COUNTER_PRVS</td>\n",
              "      <td>HEALTHY</td>\n",
              "      <td>HEALTHY</td>\n",
              "      <td>COUNTY</td>\n",
              "      <td>COUNTY</td>\n",
              "      <td>10.0</td>\n",
              "      <td>2015</td>\n",
              "    </tr>\n",
              "    <tr>\n",
              "      <th>3250</th>\n",
              "      <td>CAT</td>\n",
              "      <td>DOMESTIC SH</td>\n",
              "      <td>TORTIE</td>\n",
              "      <td>Spayed</td>\n",
              "      <td>KITTN</td>\n",
              "      <td>2015-05-11</td>\n",
              "      <td>A326430</td>\n",
              "      <td>2015-08-29</td>\n",
              "      <td>2015-09-12</td>\n",
              "      <td>14</td>\n",
              "      <td>OWNER SURRENDER</td>\n",
              "      <td>ADOPTION</td>\n",
              "      <td>INTERNET</td>\n",
              "      <td>HEALTHY</td>\n",
              "      <td>HEALTHY</td>\n",
              "      <td>COUNTY</td>\n",
              "      <td>COUNTY</td>\n",
              "      <td>6.0</td>\n",
              "      <td>2015</td>\n",
              "    </tr>\n",
              "    <tr>\n",
              "      <th>3546</th>\n",
              "      <td>DOG</td>\n",
              "      <td>CHIHUAHUA SH</td>\n",
              "      <td>BROWN</td>\n",
              "      <td>Spayed</td>\n",
              "      <td>TOY</td>\n",
              "      <td>2005-09-01</td>\n",
              "      <td>A326435</td>\n",
              "      <td>2015-08-29</td>\n",
              "      <td>2015-09-03</td>\n",
              "      <td>5</td>\n",
              "      <td>CONFISCATE</td>\n",
              "      <td>RETURN TO OWNER</td>\n",
              "      <td>OVER THE COUNTER_NOTICE</td>\n",
              "      <td>TREATABLE</td>\n",
              "      <td>TREATABLE</td>\n",
              "      <td>COUNTY</td>\n",
              "      <td>COUNTY</td>\n",
              "      <td>16.0</td>\n",
              "      <td>2015</td>\n",
              "    </tr>\n",
              "    <tr>\n",
              "      <th>4796</th>\n",
              "      <td>CAT</td>\n",
              "      <td>DOMESTIC SH</td>\n",
              "      <td>BUFF</td>\n",
              "      <td>Neutered</td>\n",
              "      <td>SMALL</td>\n",
              "      <td>2007-09-01</td>\n",
              "      <td>A326443</td>\n",
              "      <td>2015-08-29</td>\n",
              "      <td>2015-09-03</td>\n",
              "      <td>5</td>\n",
              "      <td>CONFISCATE</td>\n",
              "      <td>RETURN TO OWNER</td>\n",
              "      <td>OVER THE COUNTER_PRVS</td>\n",
              "      <td>HEALTHY</td>\n",
              "      <td>HEALTHY</td>\n",
              "      <td>COUNTY</td>\n",
              "      <td>COUNTY</td>\n",
              "      <td>14.0</td>\n",
              "      <td>2015</td>\n",
              "    </tr>\n",
              "  </tbody>\n",
              "</table>\n",
              "</div>\n",
              "      <button class=\"colab-df-convert\" onclick=\"convertToInteractive('df-88488a50-8e2c-47a0-9e60-3313f48d5fee')\"\n",
              "              title=\"Convert this dataframe to an interactive table.\"\n",
              "              style=\"display:none;\">\n",
              "        \n",
              "  <svg xmlns=\"http://www.w3.org/2000/svg\" height=\"24px\"viewBox=\"0 0 24 24\"\n",
              "       width=\"24px\">\n",
              "    <path d=\"M0 0h24v24H0V0z\" fill=\"none\"/>\n",
              "    <path d=\"M18.56 5.44l.94 2.06.94-2.06 2.06-.94-2.06-.94-.94-2.06-.94 2.06-2.06.94zm-11 1L8.5 8.5l.94-2.06 2.06-.94-2.06-.94L8.5 2.5l-.94 2.06-2.06.94zm10 10l.94 2.06.94-2.06 2.06-.94-2.06-.94-.94-2.06-.94 2.06-2.06.94z\"/><path d=\"M17.41 7.96l-1.37-1.37c-.4-.4-.92-.59-1.43-.59-.52 0-1.04.2-1.43.59L10.3 9.45l-7.72 7.72c-.78.78-.78 2.05 0 2.83L4 21.41c.39.39.9.59 1.41.59.51 0 1.02-.2 1.41-.59l7.78-7.78 2.81-2.81c.8-.78.8-2.07 0-2.86zM5.41 20L4 18.59l7.72-7.72 1.47 1.35L5.41 20z\"/>\n",
              "  </svg>\n",
              "      </button>\n",
              "      \n",
              "  <style>\n",
              "    .colab-df-container {\n",
              "      display:flex;\n",
              "      flex-wrap:wrap;\n",
              "      gap: 12px;\n",
              "    }\n",
              "\n",
              "    .colab-df-convert {\n",
              "      background-color: #E8F0FE;\n",
              "      border: none;\n",
              "      border-radius: 50%;\n",
              "      cursor: pointer;\n",
              "      display: none;\n",
              "      fill: #1967D2;\n",
              "      height: 32px;\n",
              "      padding: 0 0 0 0;\n",
              "      width: 32px;\n",
              "    }\n",
              "\n",
              "    .colab-df-convert:hover {\n",
              "      background-color: #E2EBFA;\n",
              "      box-shadow: 0px 1px 2px rgba(60, 64, 67, 0.3), 0px 1px 3px 1px rgba(60, 64, 67, 0.15);\n",
              "      fill: #174EA6;\n",
              "    }\n",
              "\n",
              "    [theme=dark] .colab-df-convert {\n",
              "      background-color: #3B4455;\n",
              "      fill: #D2E3FC;\n",
              "    }\n",
              "\n",
              "    [theme=dark] .colab-df-convert:hover {\n",
              "      background-color: #434B5C;\n",
              "      box-shadow: 0px 1px 3px 1px rgba(0, 0, 0, 0.15);\n",
              "      filter: drop-shadow(0px 1px 2px rgba(0, 0, 0, 0.3));\n",
              "      fill: #FFFFFF;\n",
              "    }\n",
              "  </style>\n",
              "\n",
              "      <script>\n",
              "        const buttonEl =\n",
              "          document.querySelector('#df-88488a50-8e2c-47a0-9e60-3313f48d5fee button.colab-df-convert');\n",
              "        buttonEl.style.display =\n",
              "          google.colab.kernel.accessAllowed ? 'block' : 'none';\n",
              "\n",
              "        async function convertToInteractive(key) {\n",
              "          const element = document.querySelector('#df-88488a50-8e2c-47a0-9e60-3313f48d5fee');\n",
              "          const dataTable =\n",
              "            await google.colab.kernel.invokeFunction('convertToInteractive',\n",
              "                                                     [key], {});\n",
              "          if (!dataTable) return;\n",
              "\n",
              "          const docLinkHtml = 'Like what you see? Visit the ' +\n",
              "            '<a target=\"_blank\" href=https://colab.research.google.com/notebooks/data_table.ipynb>data table notebook</a>'\n",
              "            + ' to learn more about interactive tables.';\n",
              "          element.innerHTML = '';\n",
              "          dataTable['output_type'] = 'display_data';\n",
              "          await google.colab.output.renderOutput(dataTable, element);\n",
              "          const docLink = document.createElement('div');\n",
              "          docLink.innerHTML = docLinkHtml;\n",
              "          element.appendChild(docLink);\n",
              "        }\n",
              "      </script>\n",
              "    </div>\n",
              "  </div>\n",
              "  "
            ]
          },
          "metadata": {},
          "execution_count": 41
        }
      ]
    },
    {
      "cell_type": "markdown",
      "source": [
        "There doesn't seem to be any significant correlation between Intake type and the date, so it may just be that the shelter is just natrually busy during the months of May to November."
      ],
      "metadata": {
        "id": "ReADBCqOFJ63"
      },
      "id": "ReADBCqOFJ63"
    },
    {
      "cell_type": "markdown",
      "source": [
        "Instead, lets look at the 20 busiest days purely based on Outcome Date."
      ],
      "metadata": {
        "id": "i334NumLFRTu"
      },
      "id": "i334NumLFRTu"
    },
    {
      "cell_type": "code",
      "source": [
        "df_busy=df['Outcome Date']\n",
        "df_busy.value_counts()[:20].plot.bar();\n",
        "plt.ylabel('Count')\n",
        "plt.title('Buisiest Shelter Dates.');"
      ],
      "metadata": {
        "colab": {
          "base_uri": "https://localhost:8080/",
          "height": 376
        },
        "id": "InsMu48ZFdwP",
        "outputId": "947cec0f-fccb-46da-91b9-d1eff17ae3c8"
      },
      "id": "InsMu48ZFdwP",
      "execution_count": 42,
      "outputs": [
        {
          "output_type": "display_data",
          "data": {
            "text/plain": [
              "<Figure size 432x288 with 1 Axes>"
            ],
            "image/png": "[encoded data removed]"
          },
          "metadata": {
            "needs_background": "light"
          }
        }
      ]
    },
    {
      "cell_type": "markdown",
      "source": [
        "The dates of 10/26/2019 and 10/11/2017 are especially high, lets take a look at the animals that were brought into the shelter on those dates, to see if there was anything significant that may have happened on those dates. "
      ],
      "metadata": {
        "id": "dpYcUowDe8jN"
      },
      "id": "dpYcUowDe8jN"
    },
    {
      "cell_type": "code",
      "source": [
        "Oct1 = df[(df['Intake Date'] == '2019-10-26 00:00:00') | (df['Outcome Date'] == '2019-10-26 00:00;')]\n",
        "Oct1.head(5)"
      ],
      "metadata": {
        "id": "V7XmY7-qfL5C",
        "colab": {
          "base_uri": "https://localhost:8080/",
          "height": 426
        },
        "outputId": "19e695fc-9ec3-4958-9976-d12981dd94c6"
      },
      "id": "V7XmY7-qfL5C",
      "execution_count": 43,
      "outputs": [
        {
          "output_type": "execute_result",
          "data": {
            "text/plain": [
              "     Type                Breed           Color       Sex   Size Date Of Birth  \\\n",
              "2418  CAT          DOMESTIC SH          TORTIE    Female  KITTN    2019-08-08   \n",
              "2957  DOG  PARSON RUSS TER/MIX             TAN  Neutered  SMALL    2015-04-06   \n",
              "3025  DOG         CHIHUAHUA LH           BROWN    Spayed  SMALL    2017-10-03   \n",
              "3076  DOG  AUST CATTLE DOG/MIX  BLUE MERLE/TAN      Male    MED           NaT   \n",
              "3265  CAT          DOMESTIC SH      GRAY TABBY    Female  KITTN    2019-06-25   \n",
              "\n",
              "     Animal ID Intake Date Outcome Date  Days in Shelter      Intake Type  \\\n",
              "2418   A393282  2019-10-23   2019-10-26                3            STRAY   \n",
              "2957   A343241  2019-10-25   2019-10-26                1  OWNER SURRENDER   \n",
              "3025   A391990  2019-10-03   2019-10-26               23       CONFISCATE   \n",
              "3076   A393224  2019-10-20   2019-10-26                6            STRAY   \n",
              "3265   A393335  2019-10-25   2019-10-26                1            STRAY   \n",
              "\n",
              "     Outcome Type Outcome Subtype Intake Condition Outcome Condition  \\\n",
              "2418     TRANSFER            HSSC              NaN           HEALTHY   \n",
              "2957     TRANSFER             ARF          HEALTHY           HEALTHY   \n",
              "3025     TRANSFER            HSSC          HEALTHY           HEALTHY   \n",
              "3076     TRANSFER            HSSC          HEALTHY           HEALTHY   \n",
              "3265     TRANSFER             ARF              NaN           HEALTHY   \n",
              "\n",
              "     Intake Jurisdiction Outcome Jurisdiction  Age  intake year  \n",
              "2418          SANTA ROSA               COUNTY  2.0         2019  \n",
              "2957              COUNTY        OUT OF COUNTY  7.0         2019  \n",
              "3025          SANTA ROSA               COUNTY  4.0         2019  \n",
              "3076              COUNTY               COUNTY  NaN         2019  \n",
              "3265              COUNTY        OUT OF COUNTY  2.0         2019  "
            ],
            "text/html": [
              "\n",
              "  <div id=\"df-c1ef9865-9491-4de9-a41e-f17db43385f1\">\n",
              "    <div class=\"colab-df-container\">\n",
              "      <div>\n",
              "<style scoped>\n",
              "    .dataframe tbody tr th:only-of-type {\n",
              "        vertical-align: middle;\n",
              "    }\n",
              "\n",
              "    .dataframe tbody tr th {\n",
              "        vertical-align: top;\n",
              "    }\n",
              "\n",
              "    .dataframe thead th {\n",
              "        text-align: right;\n",
              "    }\n",
              "</style>\n",
              "<table border=\"1\" class=\"dataframe\">\n",
              "  <thead>\n",
              "    <tr style=\"text-align: right;\">\n",
              "      <th></th>\n",
              "      <th>Type</th>\n",
              "      <th>Breed</th>\n",
              "      <th>Color</th>\n",
              "      <th>Sex</th>\n",
              "      <th>Size</th>\n",
              "      <th>Date Of Birth</th>\n",
              "      <th>Animal ID</th>\n",
              "      <th>Intake Date</th>\n",
              "      <th>Outcome Date</th>\n",
              "      <th>Days in Shelter</th>\n",
              "      <th>Intake Type</th>\n",
              "      <th>Outcome Type</th>\n",
              "      <th>Outcome Subtype</th>\n",
              "      <th>Intake Condition</th>\n",
              "      <th>Outcome Condition</th>\n",
              "      <th>Intake Jurisdiction</th>\n",
              "      <th>Outcome Jurisdiction</th>\n",
              "      <th>Age</th>\n",
              "      <th>intake year</th>\n",
              "    </tr>\n",
              "  </thead>\n",
              "  <tbody>\n",
              "    <tr>\n",
              "      <th>2418</th>\n",
              "      <td>CAT</td>\n",
              "      <td>DOMESTIC SH</td>\n",
              "      <td>TORTIE</td>\n",
              "      <td>Female</td>\n",
              "      <td>KITTN</td>\n",
              "      <td>2019-08-08</td>\n",
              "      <td>A393282</td>\n",
              "      <td>2019-10-23</td>\n",
              "      <td>2019-10-26</td>\n",
              "      <td>3</td>\n",
              "      <td>STRAY</td>\n",
              "      <td>TRANSFER</td>\n",
              "      <td>HSSC</td>\n",
              "      <td>NaN</td>\n",
              "      <td>HEALTHY</td>\n",
              "      <td>SANTA ROSA</td>\n",
              "      <td>COUNTY</td>\n",
              "      <td>2.0</td>\n",
              "      <td>2019</td>\n",
              "    </tr>\n",
              "    <tr>\n",
              "      <th>2957</th>\n",
              "      <td>DOG</td>\n",
              "      <td>PARSON RUSS TER/MIX</td>\n",
              "      <td>TAN</td>\n",
              "      <td>Neutered</td>\n",
              "      <td>SMALL</td>\n",
              "      <td>2015-04-06</td>\n",
              "      <td>A343241</td>\n",
              "      <td>2019-10-25</td>\n",
              "      <td>2019-10-26</td>\n",
              "      <td>1</td>\n",
              "      <td>OWNER SURRENDER</td>\n",
              "      <td>TRANSFER</td>\n",
              "      <td>ARF</td>\n",
              "      <td>HEALTHY</td>\n",
              "      <td>HEALTHY</td>\n",
              "      <td>COUNTY</td>\n",
              "      <td>OUT OF COUNTY</td>\n",
              "      <td>7.0</td>\n",
              "      <td>2019</td>\n",
              "    </tr>\n",
              "    <tr>\n",
              "      <th>3025</th>\n",
              "      <td>DOG</td>\n",
              "      <td>CHIHUAHUA LH</td>\n",
              "      <td>BROWN</td>\n",
              "      <td>Spayed</td>\n",
              "      <td>SMALL</td>\n",
              "      <td>2017-10-03</td>\n",
              "      <td>A391990</td>\n",
              "      <td>2019-10-03</td>\n",
              "      <td>2019-10-26</td>\n",
              "      <td>23</td>\n",
              "      <td>CONFISCATE</td>\n",
              "      <td>TRANSFER</td>\n",
              "      <td>HSSC</td>\n",
              "      <td>HEALTHY</td>\n",
              "      <td>HEALTHY</td>\n",
              "      <td>SANTA ROSA</td>\n",
              "      <td>COUNTY</td>\n",
              "      <td>4.0</td>\n",
              "      <td>2019</td>\n",
              "    </tr>\n",
              "    <tr>\n",
              "      <th>3076</th>\n",
              "      <td>DOG</td>\n",
              "      <td>AUST CATTLE DOG/MIX</td>\n",
              "      <td>BLUE MERLE/TAN</td>\n",
              "      <td>Male</td>\n",
              "      <td>MED</td>\n",
              "      <td>NaT</td>\n",
              "      <td>A393224</td>\n",
              "      <td>2019-10-20</td>\n",
              "      <td>2019-10-26</td>\n",
              "      <td>6</td>\n",
              "      <td>STRAY</td>\n",
              "      <td>TRANSFER</td>\n",
              "      <td>HSSC</td>\n",
              "      <td>HEALTHY</td>\n",
              "      <td>HEALTHY</td>\n",
              "      <td>COUNTY</td>\n",
              "      <td>COUNTY</td>\n",
              "      <td>NaN</td>\n",
              "      <td>2019</td>\n",
              "    </tr>\n",
              "    <tr>\n",
              "      <th>3265</th>\n",
              "      <td>CAT</td>\n",
              "      <td>DOMESTIC SH</td>\n",
              "      <td>GRAY TABBY</td>\n",
              "      <td>Female</td>\n",
              "      <td>KITTN</td>\n",
              "      <td>2019-06-25</td>\n",
              "      <td>A393335</td>\n",
              "      <td>2019-10-25</td>\n",
              "      <td>2019-10-26</td>\n",
              "      <td>1</td>\n",
              "      <td>STRAY</td>\n",
              "      <td>TRANSFER</td>\n",
              "      <td>ARF</td>\n",
              "      <td>NaN</td>\n",
              "      <td>HEALTHY</td>\n",
              "      <td>COUNTY</td>\n",
              "      <td>OUT OF COUNTY</td>\n",
              "      <td>2.0</td>\n",
              "      <td>2019</td>\n",
              "    </tr>\n",
              "  </tbody>\n",
              "</table>\n",
              "</div>\n",
              "      <button class=\"colab-df-convert\" onclick=\"convertToInteractive('df-c1ef9865-9491-4de9-a41e-f17db43385f1')\"\n",
              "              title=\"Convert this dataframe to an interactive table.\"\n",
              "              style=\"display:none;\">\n",
              "        \n",
              "  <svg xmlns=\"http://www.w3.org/2000/svg\" height=\"24px\"viewBox=\"0 0 24 24\"\n",
              "       width=\"24px\">\n",
              "    <path d=\"M0 0h24v24H0V0z\" fill=\"none\"/>\n",
              "    <path d=\"M18.56 5.44l.94 2.06.94-2.06 2.06-.94-2.06-.94-.94-2.06-.94 2.06-2.06.94zm-11 1L8.5 8.5l.94-2.06 2.06-.94-2.06-.94L8.5 2.5l-.94 2.06-2.06.94zm10 10l.94 2.06.94-2.06 2.06-.94-2.06-.94-.94-2.06-.94 2.06-2.06.94z\"/><path d=\"M17.41 7.96l-1.37-1.37c-.4-.4-.92-.59-1.43-.59-.52 0-1.04.2-1.43.59L10.3 9.45l-7.72 7.72c-.78.78-.78 2.05 0 2.83L4 21.41c.39.39.9.59 1.41.59.51 0 1.02-.2 1.41-.59l7.78-7.78 2.81-2.81c.8-.78.8-2.07 0-2.86zM5.41 20L4 18.59l7.72-7.72 1.47 1.35L5.41 20z\"/>\n",
              "  </svg>\n",
              "      </button>\n",
              "      \n",
              "  <style>\n",
              "    .colab-df-container {\n",
              "      display:flex;\n",
              "      flex-wrap:wrap;\n",
              "      gap: 12px;\n",
              "    }\n",
              "\n",
              "    .colab-df-convert {\n",
              "      background-color: #E8F0FE;\n",
              "      border: none;\n",
              "      border-radius: 50%;\n",
              "      cursor: pointer;\n",
              "      display: none;\n",
              "      fill: #1967D2;\n",
              "      height: 32px;\n",
              "      padding: 0 0 0 0;\n",
              "      width: 32px;\n",
              "    }\n",
              "\n",
              "    .colab-df-convert:hover {\n",
              "      background-color: #E2EBFA;\n",
              "      box-shadow: 0px 1px 2px rgba(60, 64, 67, 0.3), 0px 1px 3px 1px rgba(60, 64, 67, 0.15);\n",
              "      fill: #174EA6;\n",
              "    }\n",
              "\n",
              "    [theme=dark] .colab-df-convert {\n",
              "      background-color: #3B4455;\n",
              "      fill: #D2E3FC;\n",
              "    }\n",
              "\n",
              "    [theme=dark] .colab-df-convert:hover {\n",
              "      background-color: #434B5C;\n",
              "      box-shadow: 0px 1px 3px 1px rgba(0, 0, 0, 0.15);\n",
              "      filter: drop-shadow(0px 1px 2px rgba(0, 0, 0, 0.3));\n",
              "      fill: #FFFFFF;\n",
              "    }\n",
              "  </style>\n",
              "\n",
              "      <script>\n",
              "        const buttonEl =\n",
              "          document.querySelector('#df-c1ef9865-9491-4de9-a41e-f17db43385f1 button.colab-df-convert');\n",
              "        buttonEl.style.display =\n",
              "          google.colab.kernel.accessAllowed ? 'block' : 'none';\n",
              "\n",
              "        async function convertToInteractive(key) {\n",
              "          const element = document.querySelector('#df-c1ef9865-9491-4de9-a41e-f17db43385f1');\n",
              "          const dataTable =\n",
              "            await google.colab.kernel.invokeFunction('convertToInteractive',\n",
              "                                                     [key], {});\n",
              "          if (!dataTable) return;\n",
              "\n",
              "          const docLinkHtml = 'Like what you see? Visit the ' +\n",
              "            '<a target=\"_blank\" href=https://colab.research.google.com/notebooks/data_table.ipynb>data table notebook</a>'\n",
              "            + ' to learn more about interactive tables.';\n",
              "          element.innerHTML = '';\n",
              "          dataTable['output_type'] = 'display_data';\n",
              "          await google.colab.output.renderOutput(dataTable, element);\n",
              "          const docLink = document.createElement('div');\n",
              "          docLink.innerHTML = docLinkHtml;\n",
              "          element.appendChild(docLink);\n",
              "        }\n",
              "      </script>\n",
              "    </div>\n",
              "  </div>\n",
              "  "
            ]
          },
          "metadata": {},
          "execution_count": 43
        }
      ]
    },
    {
      "cell_type": "markdown",
      "source": [
        "It looks like most of the animals that have an outcome date of 10/26/2019 all had an outcome type of 'TRANSFER'.This could mean that by looking for the busiest dates of the shelter, we could be just looking at the dates that the shelter transfers the most animals. "
      ],
      "metadata": {
        "id": "5oBvSY9ugviI"
      },
      "id": "5oBvSY9ugviI"
    },
    {
      "cell_type": "markdown",
      "metadata": {
        "id": "05ea9473"
      },
      "source": [
        "## Conclusions"
      ],
      "id": "05ea9473"
    },
    {
      "cell_type": "markdown",
      "source": [
        "In conclusion, we learned a lot of different things about the Sonoma County Animal shelter. For one, we learned that at this shelter, there are more cats adopted than dogs. However at the saem time, it is more likely dogs get returned to their owner, so the shelter may have a tendancy to return lost dogs and have surplus of strays cats waiting to be adopted. We also learned that although cats are adopted more, they are also transfered and euthanized more often, so although more cats get adopted, dogs may be more likely to be adopted. We looked at some of the intake and outake conditions of animals who were placed in the shelter to see if there was any correlation, or change in their condition when the animal left. We discovered that most animals who came in healthy, also left healthy, and animals that were deemed treatable were mostly taken care of. It shows the high quality and standards that are held at the Sonoma shelter, and the trust that people have in the shelter to take care of their pets. \n",
        "> As a group, we also looked into how the COVID 19 outbreak could have affected the shelter, as well as the time that the shelter might be the most busy. While it did not look like the number of animals that were quarantined changed, the length in time was around 14 days, which was the inital standard isolation period. The overall number of animal intakes also decreased during the years of COVID-19 by a significant messure. Finally, we can make a general assumption, based on intake and outake date patterns within the shelter, that the shelter is at its busiest overall time during the months of May-Novermber. We overall learned a lot about the Sonoma County Animal shelter, and how we can interpret different types of data to make educated assumptions about the shelter. "
      ],
      "metadata": {
        "id": "MfPoElDY8UDj"
      },
      "id": "MfPoElDY8UDj"
    }
  ],
  "metadata": {
    "colab": {
      "collapsed_sections": [],
      "name": "sonoma-shelter.ipynb",
      "provenance": []
    },
    "kernelspec": {
      "display_name": "Python 3",
      "language": "python",
      "name": "python3"
    },
    "language_info": {
      "codemirror_mode": {
        "name": "ipython",
        "version": 3
      },
      "file_extension": ".py",
      "mimetype": "text/x-python",
      "name": "python",
      "nbconvert_exporter": "python",
      "pygments_lexer": "ipython3",
      "version": "3.8.8"
    }
  },
  "nbformat": 4,
  "nbformat_minor": 5
}